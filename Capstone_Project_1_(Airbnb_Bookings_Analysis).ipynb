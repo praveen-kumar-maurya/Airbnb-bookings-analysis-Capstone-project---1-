{
  "nbformat": 4,
  "nbformat_minor": 0,
  "metadata": {
    "colab": {
      "provenance": [],
      "collapsed_sections": [
        "vncDsAP0Gaoa",
        "FJNUwmbgGyua",
        "w6K7xa23Elo4",
        "yQaldy8SH6Dl",
        "PH-0ReGfmX4f",
        "mDgbUHAGgjLW",
        "O_i_v8NEhb9l",
        "HhfV-JJviCcP",
        "Y3lxredqlCYt",
        "3RnN4peoiCZX",
        "x71ZqKXriCWQ",
        "7hBIi_osiCS2",
        "JlHwYmJAmNHm",
        "35m5QtbWiB9F",
        "PoPl-ycgm1ru",
        "H0kj-8xxnORC",
        "nA9Y7ga8ng1Z",
        "PBTbrJXOngz2",
        "u3PMJOP6ngxN",
        "dauF4eBmngu3",
        "bKJF3rekwFvQ",
        "MSa1f5Uengrz",
        "GF8Ens_Soomf",
        "0wOQAZs5pc--",
        "K5QZ13OEpz2H",
        "lQ7QKXXCp7Bj",
        "448CDAPjqfQr",
        "KSlN3yHqYklG",
        "t6dVpIINYklI",
        "ijmpgYnKYklI",
        "-JiQyfWJYklI",
        "EM7whBJCYoAo",
        "fge-S5ZAYoAp",
        "85gYPyotYoAp",
        "RoGjAbkUYoAp",
        "4Of9eVA-YrdM",
        "iky9q4vBYrdO",
        "F6T5p64dYrdO",
        "y-Ehk30pYrdP",
        "bamQiAODYuh1",
        "QHF8YVU7Yuh3",
        "GwzvFGzlYuh3",
        "qYpmQ266Yuh3",
        "OH-pJp9IphqM",
        "bbFf2-_FphqN",
        "_ouA3fa0phqN",
        "Seke61FWphqN",
        "PIIx-8_IphqN",
        "t27r6nlMphqO",
        "r2jJGEOYphqO",
        "b0JNsNcRphqO",
        "BZR9WyysphqO",
        "jj7wYXLtphqO",
        "eZrbJ2SmphqO",
        "rFu4xreNphqO",
        "YJ55k-q6phqO",
        "gCFgpxoyphqP",
        "OVtJsKN_phqQ",
        "lssrdh5qphqQ",
        "U2RJ9gkRphqQ",
        "1M8mcRywphqQ",
        "tgIPom80phqQ",
        "JMzcOPDDphqR",
        "x-EpHcCOp1ci",
        "X_VqEhTip1ck",
        "8zGJKyg5p1ck",
        "PVzmfK_Ep1ck",
        "n3dbpmDWp1ck",
        "ylSl6qgtp1ck",
        "ZWILFDl5p1ck",
        "M7G43BXep1ck",
        "Ag9LCva-p1cl",
        "E6MkPsBcp1cl",
        "2cELzS2fp1cl",
        "3MPXvC8up1cl",
        "NC_X3p0fY2L0",
        "UV0SzAkaZNRQ",
        "YPEH6qLeZNRQ",
        "q29F0dvdveiT",
        "EXh0U9oCveiU",
        "22aHeOlLveiV",
        "JcMwzZxoAimU",
        "8G2x9gOozGDZ",
        "gCX9965dhzqZ",
        "gIfDvo9L0UH2"
      ],
      "include_colab_link": true
    },
    "kernelspec": {
      "name": "python3",
      "display_name": "Python 3"
    },
    "language_info": {
      "name": "python"
    },
    "gpuClass": "standard"
  },
  "cells": [
    {
      "cell_type": "markdown",
      "metadata": {
        "id": "view-in-github",
        "colab_type": "text"
      },
      "source": [
        "<a href=\"https://colab.research.google.com/github/praveen-kumar-maurya/Airbnb-bookings-analysis-Capstone-project---1-/blob/main/Capstone_Project_1_(Airbnb_Bookings_Analysis).ipynb\" target=\"_parent\"><img src=\"https://colab.research.google.com/assets/colab-badge.svg\" alt=\"Open In Colab\"/></a>"
      ]
    },
    {
      "cell_type": "markdown",
      "source": [
        "# **Project Name**    -  AirBnb Bookings\n",
        "\n"
      ],
      "metadata": {
        "id": "vncDsAP0Gaoa"
      }
    },
    {
      "cell_type": "markdown",
      "source": [
        "##### **Project Type**    - EDA\n",
        "##### **Contribution**    - Individual\n",
        "##### **Team Member 1 - PRAVEEN KUMAR MAURYA**\n"
      ],
      "metadata": {
        "id": "beRrZCGUAJYm"
      }
    },
    {
      "cell_type": "markdown",
      "source": [
        "# **GitHub Link -**"
      ],
      "metadata": {
        "id": "w6K7xa23Elo4"
      }
    },
    {
      "cell_type": "markdown",
      "source": [
        "https://github.com/praveen-kumar-maurya/Airbnb-bookings-analysis-Capstone-project---1-"
      ],
      "metadata": {
        "id": "h1o69JH3Eqqn"
      }
    },
    {
      "cell_type": "markdown",
      "source": [
        "# **About Airbnb**    \n",
        "\n",
        "Airbnb is a platform that allows people to rent out their homes or spare rooms to travelers as a form of accommodation. Founded in 2008, Airbnb has grown rapidly and is now available in over 220 countries and regions around the world. The company aims to provide a unique and personalized travel experience for its users by offering a variety of lodging options, from shared rooms to entire homes and apartments. Airbnb has disrupted the traditional hospitality industry by providing an alternative form of accommodation that often offers more affordable and authentic options for travelers. The analysis of data on millions of listings available on Airbnb is an essential aspect for the company."
      ],
      "metadata": {
        "id": "_Kkzif5XXkQE"
      }
    },
    {
      "cell_type": "markdown",
      "source": [
        "# **Project Summary -**"
      ],
      "metadata": {
        "id": "FJNUwmbgGyua"
      }
    },
    {
      "cell_type": "markdown",
      "source": [
        "Write the summary here within 500-600 words."
      ],
      "metadata": {
        "id": "F6v_1wHtG2nS"
      }
    },
    {
      "cell_type": "markdown",
      "source": [
        "# **Problem Statement**\n"
      ],
      "metadata": {
        "id": "yQaldy8SH6Dl"
      }
    },
    {
      "cell_type": "markdown",
      "source": [
        "**Airbnb dataset is used to understand the factors that impact booking rates and customer satisfaction, in order to identify areas for improvement and optimize revenue.**"
      ],
      "metadata": {
        "id": "DpeJGUA3kjGy"
      }
    },
    {
      "cell_type": "markdown",
      "source": [
        "#### **Define Your Business Objective?**"
      ],
      "metadata": {
        "id": "PH-0ReGfmX4f"
      }
    },
    {
      "cell_type": "markdown",
      "source": [
        "Business objective for performing an exploratory data analysis (EDA) on the Airbnb dataset is to identify opportunities to improve the user experience and drive revenue growth. By analyzing patterns and trends in the data, the company can gain insights into customer preferences and behaviors, as well as identify potential areas for improvement in terms of pricing and availability. This information can inform strategic decisions around marketing, product development, and service enhancements to ultimately increase bookings, customer satisfaction, and profitability."
      ],
      "metadata": {
        "id": "PhDvGCAqmjP1"
      }
    },
    {
      "cell_type": "markdown",
      "source": [
        "# ***Let's Begin !***"
      ],
      "metadata": {
        "id": "O_i_v8NEhb9l"
      }
    },
    {
      "cell_type": "markdown",
      "source": [
        "## ***1. Know Your Data***"
      ],
      "metadata": {
        "id": "HhfV-JJviCcP"
      }
    },
    {
      "cell_type": "markdown",
      "source": [
        "### Import Libraries"
      ],
      "metadata": {
        "id": "Y3lxredqlCYt"
      }
    },
    {
      "cell_type": "code",
      "source": [
        "# Import Libraries\n",
        "import pandas as pd\n",
        "import numpy as np\n",
        "import matplotlib.pyplot as plt\n",
        "%matplotlib inline\n",
        "import seaborn as sns\n",
        "from datetime import datetime\n",
        "from datetime import date"
      ],
      "metadata": {
        "id": "M8Vqi-pPk-HR"
      },
      "execution_count": 1,
      "outputs": []
    },
    {
      "cell_type": "markdown",
      "source": [
        "### Dataset Loading"
      ],
      "metadata": {
        "id": "3RnN4peoiCZX"
      }
    },
    {
      "cell_type": "code",
      "source": [
        "# Mounting drive\n",
        "from google.colab import drive\n",
        "drive.mount('/content/drive')"
      ],
      "metadata": {
        "colab": {
          "base_uri": "https://localhost:8080/"
        },
        "id": "W_EF7n0xYPho",
        "outputId": "af483957-e38b-44fa-9aab-1199ca0e0f60"
      },
      "execution_count": 2,
      "outputs": [
        {
          "output_type": "stream",
          "name": "stdout",
          "text": [
            "Mounted at /content/drive\n"
          ]
        }
      ]
    },
    {
      "cell_type": "code",
      "source": [
        "# Loading Dataset\n",
        "airbnb_df = pd.read_csv(\"/content/drive/MyDrive/Colab Notebooks/Module 1/Capstone Project - 1/Airbnb NYC 2019.csv\")"
      ],
      "metadata": {
        "id": "4CkvbW_SlZ_R"
      },
      "execution_count": 3,
      "outputs": []
    },
    {
      "cell_type": "markdown",
      "source": [
        "### Dataset First View"
      ],
      "metadata": {
        "id": "x71ZqKXriCWQ"
      }
    },
    {
      "cell_type": "code",
      "source": [
        "# Dataset First Look\n",
        "airbnb_df.head().T"
      ],
      "metadata": {
        "id": "LWNFOSvLl09H",
        "colab": {
          "base_uri": "https://localhost:8080/",
          "height": 612
        },
        "outputId": "de7b2ec8-85a3-4c25-fbfb-aa9a4f27dd21"
      },
      "execution_count": 4,
      "outputs": [
        {
          "output_type": "execute_result",
          "data": {
            "text/plain": [
              "                                                                 0  \\\n",
              "id                                                            2539   \n",
              "name                            Clean & quiet apt home by the park   \n",
              "host_id                                                       2787   \n",
              "host_name                                                     John   \n",
              "neighbourhood_group                                       Brooklyn   \n",
              "neighbourhood                                           Kensington   \n",
              "latitude                                                  40.64749   \n",
              "longitude                                                -73.97237   \n",
              "room_type                                             Private room   \n",
              "price                                                          149   \n",
              "minimum_nights                                                   1   \n",
              "number_of_reviews                                                9   \n",
              "last_review                                             19-10-2018   \n",
              "reviews_per_month                                             0.21   \n",
              "calculated_host_listings_count                                   6   \n",
              "availability_365                                               365   \n",
              "\n",
              "                                                    1  \\\n",
              "id                                               2595   \n",
              "name                            Skylit Midtown Castle   \n",
              "host_id                                          2845   \n",
              "host_name                                    Jennifer   \n",
              "neighbourhood_group                         Manhattan   \n",
              "neighbourhood                                 Midtown   \n",
              "latitude                                     40.75362   \n",
              "longitude                                   -73.98377   \n",
              "room_type                             Entire home/apt   \n",
              "price                                             225   \n",
              "minimum_nights                                      1   \n",
              "number_of_reviews                                  45   \n",
              "last_review                                21-05-2019   \n",
              "reviews_per_month                                0.38   \n",
              "calculated_host_listings_count                      2   \n",
              "availability_365                                  355   \n",
              "\n",
              "                                                                  2  \\\n",
              "id                                                             3647   \n",
              "name                            THE VILLAGE OF HARLEM....NEW YORK !   \n",
              "host_id                                                        4632   \n",
              "host_name                                                 Elisabeth   \n",
              "neighbourhood_group                                       Manhattan   \n",
              "neighbourhood                                                Harlem   \n",
              "latitude                                                   40.80902   \n",
              "longitude                                                  -73.9419   \n",
              "room_type                                              Private room   \n",
              "price                                                           150   \n",
              "minimum_nights                                                    3   \n",
              "number_of_reviews                                                 0   \n",
              "last_review                                                     NaN   \n",
              "reviews_per_month                                               NaN   \n",
              "calculated_host_listings_count                                    1   \n",
              "availability_365                                                365   \n",
              "\n",
              "                                                              3  \\\n",
              "id                                                         3831   \n",
              "name                            Cozy Entire Floor of Brownstone   \n",
              "host_id                                                    4869   \n",
              "host_name                                           LisaRoxanne   \n",
              "neighbourhood_group                                    Brooklyn   \n",
              "neighbourhood                                      Clinton Hill   \n",
              "latitude                                               40.68514   \n",
              "longitude                                             -73.95976   \n",
              "room_type                                       Entire home/apt   \n",
              "price                                                        89   \n",
              "minimum_nights                                                1   \n",
              "number_of_reviews                                           270   \n",
              "last_review                                          05-07-2019   \n",
              "reviews_per_month                                          4.64   \n",
              "calculated_host_listings_count                                1   \n",
              "availability_365                                            194   \n",
              "\n",
              "                                                                               4  \n",
              "id                                                                          5022  \n",
              "name                            Entire Apt: Spacious Studio/Loft by central park  \n",
              "host_id                                                                     7192  \n",
              "host_name                                                                  Laura  \n",
              "neighbourhood_group                                                    Manhattan  \n",
              "neighbourhood                                                        East Harlem  \n",
              "latitude                                                                40.79851  \n",
              "longitude                                                              -73.94399  \n",
              "room_type                                                        Entire home/apt  \n",
              "price                                                                         80  \n",
              "minimum_nights                                                                10  \n",
              "number_of_reviews                                                              9  \n",
              "last_review                                                           19-11-2018  \n",
              "reviews_per_month                                                            0.1  \n",
              "calculated_host_listings_count                                                 1  \n",
              "availability_365                                                               0  "
            ],
            "text/html": [
              "\n",
              "  <div id=\"df-c000d3ab-49d5-4114-a860-f39bb0647ad6\">\n",
              "    <div class=\"colab-df-container\">\n",
              "      <div>\n",
              "<style scoped>\n",
              "    .dataframe tbody tr th:only-of-type {\n",
              "        vertical-align: middle;\n",
              "    }\n",
              "\n",
              "    .dataframe tbody tr th {\n",
              "        vertical-align: top;\n",
              "    }\n",
              "\n",
              "    .dataframe thead th {\n",
              "        text-align: right;\n",
              "    }\n",
              "</style>\n",
              "<table border=\"1\" class=\"dataframe\">\n",
              "  <thead>\n",
              "    <tr style=\"text-align: right;\">\n",
              "      <th></th>\n",
              "      <th>0</th>\n",
              "      <th>1</th>\n",
              "      <th>2</th>\n",
              "      <th>3</th>\n",
              "      <th>4</th>\n",
              "    </tr>\n",
              "  </thead>\n",
              "  <tbody>\n",
              "    <tr>\n",
              "      <th>id</th>\n",
              "      <td>2539</td>\n",
              "      <td>2595</td>\n",
              "      <td>3647</td>\n",
              "      <td>3831</td>\n",
              "      <td>5022</td>\n",
              "    </tr>\n",
              "    <tr>\n",
              "      <th>name</th>\n",
              "      <td>Clean &amp; quiet apt home by the park</td>\n",
              "      <td>Skylit Midtown Castle</td>\n",
              "      <td>THE VILLAGE OF HARLEM....NEW YORK !</td>\n",
              "      <td>Cozy Entire Floor of Brownstone</td>\n",
              "      <td>Entire Apt: Spacious Studio/Loft by central park</td>\n",
              "    </tr>\n",
              "    <tr>\n",
              "      <th>host_id</th>\n",
              "      <td>2787</td>\n",
              "      <td>2845</td>\n",
              "      <td>4632</td>\n",
              "      <td>4869</td>\n",
              "      <td>7192</td>\n",
              "    </tr>\n",
              "    <tr>\n",
              "      <th>host_name</th>\n",
              "      <td>John</td>\n",
              "      <td>Jennifer</td>\n",
              "      <td>Elisabeth</td>\n",
              "      <td>LisaRoxanne</td>\n",
              "      <td>Laura</td>\n",
              "    </tr>\n",
              "    <tr>\n",
              "      <th>neighbourhood_group</th>\n",
              "      <td>Brooklyn</td>\n",
              "      <td>Manhattan</td>\n",
              "      <td>Manhattan</td>\n",
              "      <td>Brooklyn</td>\n",
              "      <td>Manhattan</td>\n",
              "    </tr>\n",
              "    <tr>\n",
              "      <th>neighbourhood</th>\n",
              "      <td>Kensington</td>\n",
              "      <td>Midtown</td>\n",
              "      <td>Harlem</td>\n",
              "      <td>Clinton Hill</td>\n",
              "      <td>East Harlem</td>\n",
              "    </tr>\n",
              "    <tr>\n",
              "      <th>latitude</th>\n",
              "      <td>40.64749</td>\n",
              "      <td>40.75362</td>\n",
              "      <td>40.80902</td>\n",
              "      <td>40.68514</td>\n",
              "      <td>40.79851</td>\n",
              "    </tr>\n",
              "    <tr>\n",
              "      <th>longitude</th>\n",
              "      <td>-73.97237</td>\n",
              "      <td>-73.98377</td>\n",
              "      <td>-73.9419</td>\n",
              "      <td>-73.95976</td>\n",
              "      <td>-73.94399</td>\n",
              "    </tr>\n",
              "    <tr>\n",
              "      <th>room_type</th>\n",
              "      <td>Private room</td>\n",
              "      <td>Entire home/apt</td>\n",
              "      <td>Private room</td>\n",
              "      <td>Entire home/apt</td>\n",
              "      <td>Entire home/apt</td>\n",
              "    </tr>\n",
              "    <tr>\n",
              "      <th>price</th>\n",
              "      <td>149</td>\n",
              "      <td>225</td>\n",
              "      <td>150</td>\n",
              "      <td>89</td>\n",
              "      <td>80</td>\n",
              "    </tr>\n",
              "    <tr>\n",
              "      <th>minimum_nights</th>\n",
              "      <td>1</td>\n",
              "      <td>1</td>\n",
              "      <td>3</td>\n",
              "      <td>1</td>\n",
              "      <td>10</td>\n",
              "    </tr>\n",
              "    <tr>\n",
              "      <th>number_of_reviews</th>\n",
              "      <td>9</td>\n",
              "      <td>45</td>\n",
              "      <td>0</td>\n",
              "      <td>270</td>\n",
              "      <td>9</td>\n",
              "    </tr>\n",
              "    <tr>\n",
              "      <th>last_review</th>\n",
              "      <td>19-10-2018</td>\n",
              "      <td>21-05-2019</td>\n",
              "      <td>NaN</td>\n",
              "      <td>05-07-2019</td>\n",
              "      <td>19-11-2018</td>\n",
              "    </tr>\n",
              "    <tr>\n",
              "      <th>reviews_per_month</th>\n",
              "      <td>0.21</td>\n",
              "      <td>0.38</td>\n",
              "      <td>NaN</td>\n",
              "      <td>4.64</td>\n",
              "      <td>0.1</td>\n",
              "    </tr>\n",
              "    <tr>\n",
              "      <th>calculated_host_listings_count</th>\n",
              "      <td>6</td>\n",
              "      <td>2</td>\n",
              "      <td>1</td>\n",
              "      <td>1</td>\n",
              "      <td>1</td>\n",
              "    </tr>\n",
              "    <tr>\n",
              "      <th>availability_365</th>\n",
              "      <td>365</td>\n",
              "      <td>355</td>\n",
              "      <td>365</td>\n",
              "      <td>194</td>\n",
              "      <td>0</td>\n",
              "    </tr>\n",
              "  </tbody>\n",
              "</table>\n",
              "</div>\n",
              "      <button class=\"colab-df-convert\" onclick=\"convertToInteractive('df-c000d3ab-49d5-4114-a860-f39bb0647ad6')\"\n",
              "              title=\"Convert this dataframe to an interactive table.\"\n",
              "              style=\"display:none;\">\n",
              "        \n",
              "  <svg xmlns=\"http://www.w3.org/2000/svg\" height=\"24px\"viewBox=\"0 0 24 24\"\n",
              "       width=\"24px\">\n",
              "    <path d=\"M0 0h24v24H0V0z\" fill=\"none\"/>\n",
              "    <path d=\"M18.56 5.44l.94 2.06.94-2.06 2.06-.94-2.06-.94-.94-2.06-.94 2.06-2.06.94zm-11 1L8.5 8.5l.94-2.06 2.06-.94-2.06-.94L8.5 2.5l-.94 2.06-2.06.94zm10 10l.94 2.06.94-2.06 2.06-.94-2.06-.94-.94-2.06-.94 2.06-2.06.94z\"/><path d=\"M17.41 7.96l-1.37-1.37c-.4-.4-.92-.59-1.43-.59-.52 0-1.04.2-1.43.59L10.3 9.45l-7.72 7.72c-.78.78-.78 2.05 0 2.83L4 21.41c.39.39.9.59 1.41.59.51 0 1.02-.2 1.41-.59l7.78-7.78 2.81-2.81c.8-.78.8-2.07 0-2.86zM5.41 20L4 18.59l7.72-7.72 1.47 1.35L5.41 20z\"/>\n",
              "  </svg>\n",
              "      </button>\n",
              "      \n",
              "  <style>\n",
              "    .colab-df-container {\n",
              "      display:flex;\n",
              "      flex-wrap:wrap;\n",
              "      gap: 12px;\n",
              "    }\n",
              "\n",
              "    .colab-df-convert {\n",
              "      background-color: #E8F0FE;\n",
              "      border: none;\n",
              "      border-radius: 50%;\n",
              "      cursor: pointer;\n",
              "      display: none;\n",
              "      fill: #1967D2;\n",
              "      height: 32px;\n",
              "      padding: 0 0 0 0;\n",
              "      width: 32px;\n",
              "    }\n",
              "\n",
              "    .colab-df-convert:hover {\n",
              "      background-color: #E2EBFA;\n",
              "      box-shadow: 0px 1px 2px rgba(60, 64, 67, 0.3), 0px 1px 3px 1px rgba(60, 64, 67, 0.15);\n",
              "      fill: #174EA6;\n",
              "    }\n",
              "\n",
              "    [theme=dark] .colab-df-convert {\n",
              "      background-color: #3B4455;\n",
              "      fill: #D2E3FC;\n",
              "    }\n",
              "\n",
              "    [theme=dark] .colab-df-convert:hover {\n",
              "      background-color: #434B5C;\n",
              "      box-shadow: 0px 1px 3px 1px rgba(0, 0, 0, 0.15);\n",
              "      filter: drop-shadow(0px 1px 2px rgba(0, 0, 0, 0.3));\n",
              "      fill: #FFFFFF;\n",
              "    }\n",
              "  </style>\n",
              "\n",
              "      <script>\n",
              "        const buttonEl =\n",
              "          document.querySelector('#df-c000d3ab-49d5-4114-a860-f39bb0647ad6 button.colab-df-convert');\n",
              "        buttonEl.style.display =\n",
              "          google.colab.kernel.accessAllowed ? 'block' : 'none';\n",
              "\n",
              "        async function convertToInteractive(key) {\n",
              "          const element = document.querySelector('#df-c000d3ab-49d5-4114-a860-f39bb0647ad6');\n",
              "          const dataTable =\n",
              "            await google.colab.kernel.invokeFunction('convertToInteractive',\n",
              "                                                     [key], {});\n",
              "          if (!dataTable) return;\n",
              "\n",
              "          const docLinkHtml = 'Like what you see? Visit the ' +\n",
              "            '<a target=\"_blank\" href=https://colab.research.google.com/notebooks/data_table.ipynb>data table notebook</a>'\n",
              "            + ' to learn more about interactive tables.';\n",
              "          element.innerHTML = '';\n",
              "          dataTable['output_type'] = 'display_data';\n",
              "          await google.colab.output.renderOutput(dataTable, element);\n",
              "          const docLink = document.createElement('div');\n",
              "          docLink.innerHTML = docLinkHtml;\n",
              "          element.appendChild(docLink);\n",
              "        }\n",
              "      </script>\n",
              "    </div>\n",
              "  </div>\n",
              "  "
            ]
          },
          "metadata": {},
          "execution_count": 4
        }
      ]
    },
    {
      "cell_type": "markdown",
      "source": [
        "### Dataset Rows & Columns count"
      ],
      "metadata": {
        "id": "7hBIi_osiCS2"
      }
    },
    {
      "cell_type": "code",
      "source": [
        "# Dataset Rows & Columns count\n",
        "rows_count = len(list(airbnb_df.index))\n",
        "columns_count = len(list(airbnb_df.columns))\n",
        "print(f\"Number of rows: {rows_count}\")\n",
        "print(f\"Number of columns: {columns_count}\")"
      ],
      "metadata": {
        "id": "Kllu7SJgmLij",
        "outputId": "9347829f-5f47-4d3a-d8ca-f7d6648727dd",
        "colab": {
          "base_uri": "https://localhost:8080/"
        }
      },
      "execution_count": 5,
      "outputs": [
        {
          "output_type": "stream",
          "name": "stdout",
          "text": [
            "Number of rows: 48895\n",
            "Number of columns: 16\n"
          ]
        }
      ]
    },
    {
      "cell_type": "markdown",
      "source": [
        "### Dataset Information"
      ],
      "metadata": {
        "id": "JlHwYmJAmNHm"
      }
    },
    {
      "cell_type": "code",
      "source": [
        "# Dataset Info\n",
        "airbnb_df.info()"
      ],
      "metadata": {
        "id": "e9hRXRi6meOf",
        "outputId": "30dfc596-53b9-4f3d-e89d-b6bb7fda8b7b",
        "colab": {
          "base_uri": "https://localhost:8080/"
        }
      },
      "execution_count": 6,
      "outputs": [
        {
          "output_type": "stream",
          "name": "stdout",
          "text": [
            "<class 'pandas.core.frame.DataFrame'>\n",
            "RangeIndex: 48895 entries, 0 to 48894\n",
            "Data columns (total 16 columns):\n",
            " #   Column                          Non-Null Count  Dtype  \n",
            "---  ------                          --------------  -----  \n",
            " 0   id                              48895 non-null  int64  \n",
            " 1   name                            48879 non-null  object \n",
            " 2   host_id                         48895 non-null  int64  \n",
            " 3   host_name                       48874 non-null  object \n",
            " 4   neighbourhood_group             48895 non-null  object \n",
            " 5   neighbourhood                   48895 non-null  object \n",
            " 6   latitude                        48895 non-null  float64\n",
            " 7   longitude                       48895 non-null  float64\n",
            " 8   room_type                       48895 non-null  object \n",
            " 9   price                           48895 non-null  int64  \n",
            " 10  minimum_nights                  48895 non-null  int64  \n",
            " 11  number_of_reviews               48895 non-null  int64  \n",
            " 12  last_review                     38843 non-null  object \n",
            " 13  reviews_per_month               38843 non-null  float64\n",
            " 14  calculated_host_listings_count  48895 non-null  int64  \n",
            " 15  availability_365                48895 non-null  int64  \n",
            "dtypes: float64(3), int64(7), object(6)\n",
            "memory usage: 6.0+ MB\n"
          ]
        }
      ]
    },
    {
      "cell_type": "markdown",
      "source": [
        "#### Duplicate Values"
      ],
      "metadata": {
        "id": "35m5QtbWiB9F"
      }
    },
    {
      "cell_type": "code",
      "source": [
        "# Dataset Duplicate Value Count\n",
        "\n",
        "# Identifying duplicates\n",
        "duplicate_values = airbnb_df.duplicated()\n",
        "# print(duplicate_values)\n",
        "\n",
        "# Counting the number of duplicates\n",
        "duplicate_values_count = duplicate_values.sum()\n",
        "print(f'There are {duplicate_values_count} duplicate rows in the dataset.')"
      ],
      "metadata": {
        "id": "1sLdpKYkmox0",
        "outputId": "019ba663-86c7-41f3-f79b-53a564da93d5",
        "colab": {
          "base_uri": "https://localhost:8080/"
        }
      },
      "execution_count": 7,
      "outputs": [
        {
          "output_type": "stream",
          "name": "stdout",
          "text": [
            "There are 0 duplicate rows in the dataset.\n"
          ]
        }
      ]
    },
    {
      "cell_type": "markdown",
      "source": [
        "#### Missing Values/Null Values"
      ],
      "metadata": {
        "id": "PoPl-ycgm1ru"
      }
    },
    {
      "cell_type": "code",
      "source": [
        "# Missing Values/Null Values Count\n",
        "missing_values_count = airbnb_df.isnull().sum()\n",
        "print(missing_values_count)"
      ],
      "metadata": {
        "id": "GgHWkxvamxVg",
        "outputId": "87f56bff-f0e0-4ff4-e81a-5d48aa13c5e4",
        "colab": {
          "base_uri": "https://localhost:8080/"
        }
      },
      "execution_count": 8,
      "outputs": [
        {
          "output_type": "stream",
          "name": "stdout",
          "text": [
            "id                                    0\n",
            "name                                 16\n",
            "host_id                               0\n",
            "host_name                            21\n",
            "neighbourhood_group                   0\n",
            "neighbourhood                         0\n",
            "latitude                              0\n",
            "longitude                             0\n",
            "room_type                             0\n",
            "price                                 0\n",
            "minimum_nights                        0\n",
            "number_of_reviews                     0\n",
            "last_review                       10052\n",
            "reviews_per_month                 10052\n",
            "calculated_host_listings_count        0\n",
            "availability_365                      0\n",
            "dtype: int64\n"
          ]
        }
      ]
    },
    {
      "cell_type": "code",
      "source": [
        "# Visualizing the missing values\n",
        "missing_values_count.plot(kind='bar', color='red', width= 0.5)"
      ],
      "metadata": {
        "id": "3q5wnI3om9sJ",
        "outputId": "6caa355b-6dc4-42c7-ab84-1c57a0bdc7e1",
        "colab": {
          "base_uri": "https://localhost:8080/",
          "height": 644
        }
      },
      "execution_count": 9,
      "outputs": [
        {
          "output_type": "execute_result",
          "data": {
            "text/plain": [
              "<Axes: >"
            ]
          },
          "metadata": {},
          "execution_count": 9
        },
        {
          "output_type": "display_data",
          "data": {
            "text/plain": [
              "<Figure size 640x480 with 1 Axes>"
            ],
            "image/png": "[encoded data removed]"
          },
          "metadata": {}
        }
      ]
    },
    {
      "cell_type": "markdown",
      "source": [
        "### Understanding from dataset"
      ],
      "metadata": {
        "id": "H0kj-8xxnORC"
      }
    },
    {
      "cell_type": "markdown",
      "source": [
        "There are four columns which have missing/null values in it.The columns are name, host_name, last_review, and reviews_per_month.<br>\n",
        "<ul>\n",
        "  <li>Columns last_review, and reviews_per_month have a lot of missing values.</li>\n",
        "  <li>Columns name, and host_name have fewer missing values.</li>\n",
        "</ul>\n",
        "<br> These missings values are dealt under the data wrangling heading."
      ],
      "metadata": {
        "id": "gfoNAAC-nUe_"
      }
    },
    {
      "cell_type": "markdown",
      "source": [
        "## ***2. Understanding Your Variables***"
      ],
      "metadata": {
        "id": "nA9Y7ga8ng1Z"
      }
    },
    {
      "cell_type": "code",
      "source": [
        "# Dataset Columns\n",
        "columns = list(airbnb_df.columns)\n",
        "print(columns)"
      ],
      "metadata": {
        "id": "j7xfkqrt5Ag5",
        "outputId": "7c15f789-b4c1-4d64-fa83-1892f68be7d8",
        "colab": {
          "base_uri": "https://localhost:8080/"
        }
      },
      "execution_count": 10,
      "outputs": [
        {
          "output_type": "stream",
          "name": "stdout",
          "text": [
            "['id', 'name', 'host_id', 'host_name', 'neighbourhood_group', 'neighbourhood', 'latitude', 'longitude', 'room_type', 'price', 'minimum_nights', 'number_of_reviews', 'last_review', 'reviews_per_month', 'calculated_host_listings_count', 'availability_365']\n"
          ]
        }
      ]
    },
    {
      "cell_type": "markdown",
      "source": [
        "### Variables Description "
      ],
      "metadata": {
        "id": "PBTbrJXOngz2"
      }
    },
    {
      "cell_type": "markdown",
      "source": [
        "Variables Description \n",
        "1. id :- Unique id of the listing\n",
        "2. name :- Name of the listing\n",
        "3. host_id :- Unique host_id\n",
        "4. host_name :- Name of the host\n",
        "5. neighbourhood_group :- location\n",
        "6. neighbourhood :- area\n",
        "7. latitude :- Latitude range\n",
        "8. longitude :- Longitude range\n",
        "9. room_type :- Type of listing\n",
        "10. price :- Price of listing\n",
        "11. minimum_nights :- Duration of minimum nights to be paid for while booking\n",
        "12. number_of_reviews :- Number of reviews\n",
        "13. last_review :- Last review date\n",
        "14. reviews_per_month :- Number of reviews per month\n",
        "15. calculated_host_listings_count :- Total count\n",
        "16. availability_365 :- Availability around the year"
      ],
      "metadata": {
        "id": "aJV4KIxSnxay"
      }
    },
    {
      "cell_type": "code",
      "source": [
        "# Dataset Describe\n",
        "numerical_colums_description = airbnb_df[['price','minimum_nights','number_of_reviews','reviews_per_month','calculated_host_listings_count','availability_365']]\n",
        "numerical_colums_description.describe()"
      ],
      "metadata": {
        "id": "DnOaZdaE5Q5t",
        "outputId": "e733d88c-2735-4cb9-9eee-3d30d15b2fd9",
        "colab": {
          "base_uri": "https://localhost:8080/",
          "height": 300
        }
      },
      "execution_count": 11,
      "outputs": [
        {
          "output_type": "execute_result",
          "data": {
            "text/plain": [
              "              price  minimum_nights  number_of_reviews  reviews_per_month  \\\n",
              "count  48895.000000    48895.000000       48895.000000       38843.000000   \n",
              "mean     152.720687        7.029962          23.274466           1.373221   \n",
              "std      240.154170       20.510550          44.550582           1.680442   \n",
              "min        0.000000        1.000000           0.000000           0.010000   \n",
              "25%       69.000000        1.000000           1.000000           0.190000   \n",
              "50%      106.000000        3.000000           5.000000           0.720000   \n",
              "75%      175.000000        5.000000          24.000000           2.020000   \n",
              "max    10000.000000     1250.000000         629.000000          58.500000   \n",
              "\n",
              "       calculated_host_listings_count  availability_365  \n",
              "count                    48895.000000      48895.000000  \n",
              "mean                         7.143982        112.781327  \n",
              "std                         32.952519        131.622289  \n",
              "min                          1.000000          0.000000  \n",
              "25%                          1.000000          0.000000  \n",
              "50%                          1.000000         45.000000  \n",
              "75%                          2.000000        227.000000  \n",
              "max                        327.000000        365.000000  "
            ],
            "text/html": [
              "\n",
              "  <div id=\"df-8740d8bf-1ff3-44df-ae9a-0624b34fbfef\">\n",
              "    <div class=\"colab-df-container\">\n",
              "      <div>\n",
              "<style scoped>\n",
              "    .dataframe tbody tr th:only-of-type {\n",
              "        vertical-align: middle;\n",
              "    }\n",
              "\n",
              "    .dataframe tbody tr th {\n",
              "        vertical-align: top;\n",
              "    }\n",
              "\n",
              "    .dataframe thead th {\n",
              "        text-align: right;\n",
              "    }\n",
              "</style>\n",
              "<table border=\"1\" class=\"dataframe\">\n",
              "  <thead>\n",
              "    <tr style=\"text-align: right;\">\n",
              "      <th></th>\n",
              "      <th>price</th>\n",
              "      <th>minimum_nights</th>\n",
              "      <th>number_of_reviews</th>\n",
              "      <th>reviews_per_month</th>\n",
              "      <th>calculated_host_listings_count</th>\n",
              "      <th>availability_365</th>\n",
              "    </tr>\n",
              "  </thead>\n",
              "  <tbody>\n",
              "    <tr>\n",
              "      <th>count</th>\n",
              "      <td>48895.000000</td>\n",
              "      <td>48895.000000</td>\n",
              "      <td>48895.000000</td>\n",
              "      <td>38843.000000</td>\n",
              "      <td>48895.000000</td>\n",
              "      <td>48895.000000</td>\n",
              "    </tr>\n",
              "    <tr>\n",
              "      <th>mean</th>\n",
              "      <td>152.720687</td>\n",
              "      <td>7.029962</td>\n",
              "      <td>23.274466</td>\n",
              "      <td>1.373221</td>\n",
              "      <td>7.143982</td>\n",
              "      <td>112.781327</td>\n",
              "    </tr>\n",
              "    <tr>\n",
              "      <th>std</th>\n",
              "      <td>240.154170</td>\n",
              "      <td>20.510550</td>\n",
              "      <td>44.550582</td>\n",
              "      <td>1.680442</td>\n",
              "      <td>32.952519</td>\n",
              "      <td>131.622289</td>\n",
              "    </tr>\n",
              "    <tr>\n",
              "      <th>min</th>\n",
              "      <td>0.000000</td>\n",
              "      <td>1.000000</td>\n",
              "      <td>0.000000</td>\n",
              "      <td>0.010000</td>\n",
              "      <td>1.000000</td>\n",
              "      <td>0.000000</td>\n",
              "    </tr>\n",
              "    <tr>\n",
              "      <th>25%</th>\n",
              "      <td>69.000000</td>\n",
              "      <td>1.000000</td>\n",
              "      <td>1.000000</td>\n",
              "      <td>0.190000</td>\n",
              "      <td>1.000000</td>\n",
              "      <td>0.000000</td>\n",
              "    </tr>\n",
              "    <tr>\n",
              "      <th>50%</th>\n",
              "      <td>106.000000</td>\n",
              "      <td>3.000000</td>\n",
              "      <td>5.000000</td>\n",
              "      <td>0.720000</td>\n",
              "      <td>1.000000</td>\n",
              "      <td>45.000000</td>\n",
              "    </tr>\n",
              "    <tr>\n",
              "      <th>75%</th>\n",
              "      <td>175.000000</td>\n",
              "      <td>5.000000</td>\n",
              "      <td>24.000000</td>\n",
              "      <td>2.020000</td>\n",
              "      <td>2.000000</td>\n",
              "      <td>227.000000</td>\n",
              "    </tr>\n",
              "    <tr>\n",
              "      <th>max</th>\n",
              "      <td>10000.000000</td>\n",
              "      <td>1250.000000</td>\n",
              "      <td>629.000000</td>\n",
              "      <td>58.500000</td>\n",
              "      <td>327.000000</td>\n",
              "      <td>365.000000</td>\n",
              "    </tr>\n",
              "  </tbody>\n",
              "</table>\n",
              "</div>\n",
              "      <button class=\"colab-df-convert\" onclick=\"convertToInteractive('df-8740d8bf-1ff3-44df-ae9a-0624b34fbfef')\"\n",
              "              title=\"Convert this dataframe to an interactive table.\"\n",
              "              style=\"display:none;\">\n",
              "        \n",
              "  <svg xmlns=\"http://www.w3.org/2000/svg\" height=\"24px\"viewBox=\"0 0 24 24\"\n",
              "       width=\"24px\">\n",
              "    <path d=\"M0 0h24v24H0V0z\" fill=\"none\"/>\n",
              "    <path d=\"M18.56 5.44l.94 2.06.94-2.06 2.06-.94-2.06-.94-.94-2.06-.94 2.06-2.06.94zm-11 1L8.5 8.5l.94-2.06 2.06-.94-2.06-.94L8.5 2.5l-.94 2.06-2.06.94zm10 10l.94 2.06.94-2.06 2.06-.94-2.06-.94-.94-2.06-.94 2.06-2.06.94z\"/><path d=\"M17.41 7.96l-1.37-1.37c-.4-.4-.92-.59-1.43-.59-.52 0-1.04.2-1.43.59L10.3 9.45l-7.72 7.72c-.78.78-.78 2.05 0 2.83L4 21.41c.39.39.9.59 1.41.59.51 0 1.02-.2 1.41-.59l7.78-7.78 2.81-2.81c.8-.78.8-2.07 0-2.86zM5.41 20L4 18.59l7.72-7.72 1.47 1.35L5.41 20z\"/>\n",
              "  </svg>\n",
              "      </button>\n",
              "      \n",
              "  <style>\n",
              "    .colab-df-container {\n",
              "      display:flex;\n",
              "      flex-wrap:wrap;\n",
              "      gap: 12px;\n",
              "    }\n",
              "\n",
              "    .colab-df-convert {\n",
              "      background-color: #E8F0FE;\n",
              "      border: none;\n",
              "      border-radius: 50%;\n",
              "      cursor: pointer;\n",
              "      display: none;\n",
              "      fill: #1967D2;\n",
              "      height: 32px;\n",
              "      padding: 0 0 0 0;\n",
              "      width: 32px;\n",
              "    }\n",
              "\n",
              "    .colab-df-convert:hover {\n",
              "      background-color: #E2EBFA;\n",
              "      box-shadow: 0px 1px 2px rgba(60, 64, 67, 0.3), 0px 1px 3px 1px rgba(60, 64, 67, 0.15);\n",
              "      fill: #174EA6;\n",
              "    }\n",
              "\n",
              "    [theme=dark] .colab-df-convert {\n",
              "      background-color: #3B4455;\n",
              "      fill: #D2E3FC;\n",
              "    }\n",
              "\n",
              "    [theme=dark] .colab-df-convert:hover {\n",
              "      background-color: #434B5C;\n",
              "      box-shadow: 0px 1px 3px 1px rgba(0, 0, 0, 0.15);\n",
              "      filter: drop-shadow(0px 1px 2px rgba(0, 0, 0, 0.3));\n",
              "      fill: #FFFFFF;\n",
              "    }\n",
              "  </style>\n",
              "\n",
              "      <script>\n",
              "        const buttonEl =\n",
              "          document.querySelector('#df-8740d8bf-1ff3-44df-ae9a-0624b34fbfef button.colab-df-convert');\n",
              "        buttonEl.style.display =\n",
              "          google.colab.kernel.accessAllowed ? 'block' : 'none';\n",
              "\n",
              "        async function convertToInteractive(key) {\n",
              "          const element = document.querySelector('#df-8740d8bf-1ff3-44df-ae9a-0624b34fbfef');\n",
              "          const dataTable =\n",
              "            await google.colab.kernel.invokeFunction('convertToInteractive',\n",
              "                                                     [key], {});\n",
              "          if (!dataTable) return;\n",
              "\n",
              "          const docLinkHtml = 'Like what you see? Visit the ' +\n",
              "            '<a target=\"_blank\" href=https://colab.research.google.com/notebooks/data_table.ipynb>data table notebook</a>'\n",
              "            + ' to learn more about interactive tables.';\n",
              "          element.innerHTML = '';\n",
              "          dataTable['output_type'] = 'display_data';\n",
              "          await google.colab.output.renderOutput(dataTable, element);\n",
              "          const docLink = document.createElement('div');\n",
              "          docLink.innerHTML = docLinkHtml;\n",
              "          element.appendChild(docLink);\n",
              "        }\n",
              "      </script>\n",
              "    </div>\n",
              "  </div>\n",
              "  "
            ]
          },
          "metadata": {},
          "execution_count": 11
        }
      ]
    },
    {
      "cell_type": "markdown",
      "source": [
        "### Problem with the data in numerical columns"
      ],
      "metadata": {
        "id": "ka-L6WszT8ZV"
      }
    },
    {
      "cell_type": "markdown",
      "source": [
        "<ul>\n",
        "  <li>The minimum price is zero for a property which seems absurd and perhaps an indication of the incorrect entry of data in the price column. These incorrect pricings are dealt in data wrangling section.</li>\n",
        "  <li>The minimum number of reviews is zero which is surprising for a property to have zero number of reviews. Maybe these are new properties that have been recently listed and that might be the reason for zero number of reviews.</li>\n",
        "  <li>The minimum days for availability of a property is listed as zero for some properties. Maybe these are old properties which are no more available for bookings or these are new properties which are listed but still not available for booking or both.</li>\n",
        "</ul>"
      ],
      "metadata": {
        "id": "gBqBE54qT9mM"
      }
    },
    {
      "cell_type": "markdown",
      "source": [
        "### Checking number of Unique Values for each column"
      ],
      "metadata": {
        "id": "u3PMJOP6ngxN"
      }
    },
    {
      "cell_type": "code",
      "source": [
        "# columns here represents list of all column names and was earlier defined (see above)\n",
        "def number_of_unique_elements(columns):\n",
        "  for index,column_name in enumerate(columns):\n",
        "    print(f'Number of unique elements in {columns[index]}: {airbnb_df[columns[index]].value_counts().count()}')\n",
        "\n",
        "print(number_of_unique_elements(columns))"
      ],
      "metadata": {
        "id": "zms12Yq5n-jE",
        "outputId": "240e443b-b26e-4026-e6f0-5fef375b56f4",
        "colab": {
          "base_uri": "https://localhost:8080/"
        }
      },
      "execution_count": 12,
      "outputs": [
        {
          "output_type": "stream",
          "name": "stdout",
          "text": [
            "Number of unique elements in id: 48895\n",
            "Number of unique elements in name: 47896\n",
            "Number of unique elements in host_id: 37457\n",
            "Number of unique elements in host_name: 11452\n",
            "Number of unique elements in neighbourhood_group: 5\n",
            "Number of unique elements in neighbourhood: 221\n",
            "Number of unique elements in latitude: 19048\n",
            "Number of unique elements in longitude: 14718\n",
            "Number of unique elements in room_type: 3\n",
            "Number of unique elements in price: 674\n",
            "Number of unique elements in minimum_nights: 109\n",
            "Number of unique elements in number_of_reviews: 394\n",
            "Number of unique elements in last_review: 1764\n",
            "Number of unique elements in reviews_per_month: 937\n",
            "Number of unique elements in calculated_host_listings_count: 47\n",
            "Number of unique elements in availability_365: 366\n",
            "None\n"
          ]
        }
      ]
    },
    {
      "cell_type": "markdown",
      "source": [
        "Above analysis shows that neighbourhood_group, and room_type can be used as categorical columns as they have few unique values."
      ],
      "metadata": {
        "id": "8_2LDrKlULYY"
      }
    },
    {
      "cell_type": "markdown",
      "source": [
        "## 3. ***Data Wrangling***"
      ],
      "metadata": {
        "id": "dauF4eBmngu3"
      }
    },
    {
      "cell_type": "markdown",
      "source": [
        "### Data Wrangling Code"
      ],
      "metadata": {
        "id": "bKJF3rekwFvQ"
      }
    },
    {
      "cell_type": "code",
      "source": [
        "# Making dataset analysis ready."
      ],
      "metadata": {
        "id": "aD_IH2ZzUQkC"
      },
      "execution_count": 13,
      "outputs": []
    },
    {
      "cell_type": "code",
      "source": [
        "# Making a copy of the original data set before making changes to it.\n",
        "\n",
        "airbnb = airbnb_df.copy()"
      ],
      "metadata": {
        "id": "wk-9a2fpoLcV"
      },
      "execution_count": 14,
      "outputs": []
    },
    {
      "cell_type": "markdown",
      "source": [
        "Analysing columns with missing/null values."
      ],
      "metadata": {
        "id": "tqJVY8gUUY4x"
      }
    },
    {
      "cell_type": "code",
      "source": [
        "airbnb.isnull().sum()"
      ],
      "metadata": {
        "id": "3s3kENuMUbKF",
        "outputId": "ad2cd365-e2e2-4537-aa4f-74e541ea561d",
        "colab": {
          "base_uri": "https://localhost:8080/"
        }
      },
      "execution_count": 15,
      "outputs": [
        {
          "output_type": "execute_result",
          "data": {
            "text/plain": [
              "id                                    0\n",
              "name                                 16\n",
              "host_id                               0\n",
              "host_name                            21\n",
              "neighbourhood_group                   0\n",
              "neighbourhood                         0\n",
              "latitude                              0\n",
              "longitude                             0\n",
              "room_type                             0\n",
              "price                                 0\n",
              "minimum_nights                        0\n",
              "number_of_reviews                     0\n",
              "last_review                       10052\n",
              "reviews_per_month                 10052\n",
              "calculated_host_listings_count        0\n",
              "availability_365                      0\n",
              "dtype: int64"
            ]
          },
          "metadata": {},
          "execution_count": 15
        }
      ]
    },
    {
      "cell_type": "code",
      "source": [
        "# Removing rows with the missing names of the property name \n",
        "\n",
        "airbnb = airbnb[~airbnb['name'].isnull()]\n",
        "\n",
        "airbnb.isnull().sum()\n"
      ],
      "metadata": {
        "id": "dRi5SqTyUd_O",
        "outputId": "bd7d9821-5230-4104-c849-9154f6881947",
        "colab": {
          "base_uri": "https://localhost:8080/"
        }
      },
      "execution_count": 16,
      "outputs": [
        {
          "output_type": "execute_result",
          "data": {
            "text/plain": [
              "id                                    0\n",
              "name                                  0\n",
              "host_id                               0\n",
              "host_name                            21\n",
              "neighbourhood_group                   0\n",
              "neighbourhood                         0\n",
              "latitude                              0\n",
              "longitude                             0\n",
              "room_type                             0\n",
              "price                                 0\n",
              "minimum_nights                        0\n",
              "number_of_reviews                     0\n",
              "last_review                       10042\n",
              "reviews_per_month                 10042\n",
              "calculated_host_listings_count        0\n",
              "availability_365                      0\n",
              "dtype: int64"
            ]
          },
          "metadata": {},
          "execution_count": 16
        }
      ]
    },
    {
      "cell_type": "markdown",
      "source": [
        "Null values in name column have been removed."
      ],
      "metadata": {
        "id": "DxOBW2CHUhPY"
      }
    },
    {
      "cell_type": "code",
      "source": [
        "# Removing the rows corresponding to null values for host_name\n",
        "\n",
        "airbnb= airbnb[~airbnb['host_name'].isnull()]\n",
        "airbnb.isnull().sum()"
      ],
      "metadata": {
        "id": "C0jEpD8NUkN2",
        "outputId": "b5754e2a-ec68-4bf1-8b74-b2cee2a33fe7",
        "colab": {
          "base_uri": "https://localhost:8080/"
        }
      },
      "execution_count": 17,
      "outputs": [
        {
          "output_type": "execute_result",
          "data": {
            "text/plain": [
              "id                                    0\n",
              "name                                  0\n",
              "host_id                               0\n",
              "host_name                             0\n",
              "neighbourhood_group                   0\n",
              "neighbourhood                         0\n",
              "latitude                              0\n",
              "longitude                             0\n",
              "room_type                             0\n",
              "price                                 0\n",
              "minimum_nights                        0\n",
              "number_of_reviews                     0\n",
              "last_review                       10037\n",
              "reviews_per_month                 10037\n",
              "calculated_host_listings_count        0\n",
              "availability_365                      0\n",
              "dtype: int64"
            ]
          },
          "metadata": {},
          "execution_count": 17
        }
      ]
    },
    {
      "cell_type": "markdown",
      "source": [
        "Rows with host_name values missing are removed."
      ],
      "metadata": {
        "id": "FZnr9NHAUnhZ"
      }
    },
    {
      "cell_type": "code",
      "source": [
        "# Removing the column reviews_per_month\n",
        "\n",
        "if 'reviews_per_month' in airbnb.columns:\n",
        "  airbnb.drop('reviews_per_month', axis = 1, inplace = True)\n",
        "\n",
        "airbnb.isnull().sum()"
      ],
      "metadata": {
        "id": "hFLSrJPAUrSY",
        "outputId": "baabe50d-9be4-408f-8221-31ec8d8c58a2",
        "colab": {
          "base_uri": "https://localhost:8080/"
        }
      },
      "execution_count": 18,
      "outputs": [
        {
          "output_type": "execute_result",
          "data": {
            "text/plain": [
              "id                                    0\n",
              "name                                  0\n",
              "host_id                               0\n",
              "host_name                             0\n",
              "neighbourhood_group                   0\n",
              "neighbourhood                         0\n",
              "latitude                              0\n",
              "longitude                             0\n",
              "room_type                             0\n",
              "price                                 0\n",
              "minimum_nights                        0\n",
              "number_of_reviews                     0\n",
              "last_review                       10037\n",
              "calculated_host_listings_count        0\n",
              "availability_365                      0\n",
              "dtype: int64"
            ]
          },
          "metadata": {},
          "execution_count": 18
        }
      ]
    },
    {
      "cell_type": "markdown",
      "source": [
        "Column reviews_per_month has been dropped."
      ],
      "metadata": {
        "id": "UJc5qwp4Uvcl"
      }
    },
    {
      "cell_type": "code",
      "source": [
        "# Checking whether the number_of_reviews having 0 as value and the number of last_review with missing values are same or not\n",
        "\n",
        "count_1 = 0 # counts number of missing values in the last_review\n",
        "for i in airbnb['last_review']:\n",
        "  if pd.isnull(i):\n",
        "    count_1 = count_1 + 1\n",
        "\n",
        "print(f\"The missing values in the last_review are: {count_1}\")\n",
        "\n",
        "count_2 = 0 # counts number_of_reviews as 0 \n",
        "for j in airbnb['number_of_reviews']:\n",
        "  if j == 0:\n",
        "    count_2 = count_2 +1\n",
        "\n",
        "print(f\"The values in the number_of_reviews as 0 are: {count_2}\")"
      ],
      "metadata": {
        "id": "s1bauSAtUwt3",
        "outputId": "fde03c23-7497-43ef-8656-e844a0e8a772",
        "colab": {
          "base_uri": "https://localhost:8080/"
        }
      },
      "execution_count": 19,
      "outputs": [
        {
          "output_type": "stream",
          "name": "stdout",
          "text": [
            "The missing values in the last_review are: 10037\n",
            "The values in the number_of_reviews as 0 are: 10037\n"
          ]
        }
      ]
    },
    {
      "cell_type": "markdown",
      "source": [
        "This shows that values in the number_of_reviews as 0 are exactly equal to the number of missing values in the last_review as expected.<br>\n",
        "### Assumption\n",
        "To fill in the missing values in the last_review column, the approach taken is to replace them with the most recent date available in the column. This assumption is based on the belief that properties with 0 number_of_reviews are typically new listings on Airbnb. However, it is important to note that there could be some older properties with zero reviews, although this scenario is rare."
      ],
      "metadata": {
        "id": "P-x1LTNCU2jk"
      }
    },
    {
      "cell_type": "code",
      "source": [
        "# First separating the rows having values for last_review as not null from the airbnb and creating a new dataframe\n",
        "last_review_null_removed = airbnb[~airbnb['last_review'].isnull()]\n",
        "# converting format of last_review from string to datetime format\n",
        "last_review_null_removed['last_review']= last_review_null_removed.apply(lambda x : datetime.strptime(x['last_review'],'%d-%m-%Y'),axis=1)\n",
        "\n",
        "last_review_null_removed.info()"
      ],
      "metadata": {
        "id": "wsbb-4PrU6fg",
        "outputId": "cf691a0b-9c5b-4b56-b759-201616968f7c",
        "colab": {
          "base_uri": "https://localhost:8080/"
        }
      },
      "execution_count": 20,
      "outputs": [
        {
          "output_type": "stream",
          "name": "stdout",
          "text": [
            "<class 'pandas.core.frame.DataFrame'>\n",
            "Int64Index: 38821 entries, 0 to 48852\n",
            "Data columns (total 15 columns):\n",
            " #   Column                          Non-Null Count  Dtype         \n",
            "---  ------                          --------------  -----         \n",
            " 0   id                              38821 non-null  int64         \n",
            " 1   name                            38821 non-null  object        \n",
            " 2   host_id                         38821 non-null  int64         \n",
            " 3   host_name                       38821 non-null  object        \n",
            " 4   neighbourhood_group             38821 non-null  object        \n",
            " 5   neighbourhood                   38821 non-null  object        \n",
            " 6   latitude                        38821 non-null  float64       \n",
            " 7   longitude                       38821 non-null  float64       \n",
            " 8   room_type                       38821 non-null  object        \n",
            " 9   price                           38821 non-null  int64         \n",
            " 10  minimum_nights                  38821 non-null  int64         \n",
            " 11  number_of_reviews               38821 non-null  int64         \n",
            " 12  last_review                     38821 non-null  datetime64[ns]\n",
            " 13  calculated_host_listings_count  38821 non-null  int64         \n",
            " 14  availability_365                38821 non-null  int64         \n",
            "dtypes: datetime64[ns](1), float64(2), int64(7), object(5)\n",
            "memory usage: 4.7+ MB\n"
          ]
        },
        {
          "output_type": "stream",
          "name": "stderr",
          "text": [
            "<ipython-input-20-ef6603fbfbf6>:4: SettingWithCopyWarning: \n",
            "A value is trying to be set on a copy of a slice from a DataFrame.\n",
            "Try using .loc[row_indexer,col_indexer] = value instead\n",
            "\n",
            "See the caveats in the documentation: https://pandas.pydata.org/pandas-docs/stable/user_guide/indexing.html#returning-a-view-versus-a-copy\n",
            "  last_review_null_removed['last_review']= last_review_null_removed.apply(lambda x : datetime.strptime(x['last_review'],'%d-%m-%Y'),axis=1)\n"
          ]
        }
      ]
    },
    {
      "cell_type": "code",
      "source": [
        "# Finding the latest date present in the last_review column of the dataset\n",
        "largest_date = last_review_null_removed['last_review'].dt.date.max()\n",
        "print(largest_date)"
      ],
      "metadata": {
        "id": "sa12AnooU_ry",
        "outputId": "a2b72829-329f-4b80-f603-3e67fea48a2c",
        "colab": {
          "base_uri": "https://localhost:8080/"
        }
      },
      "execution_count": 21,
      "outputs": [
        {
          "output_type": "stream",
          "name": "stdout",
          "text": [
            "2019-07-08\n"
          ]
        }
      ]
    },
    {
      "cell_type": "code",
      "source": [
        "# Replacing all the null values present in the last_review column of the original dataset(airbnb) with the value of latest date\n",
        "airbnb['last_review'] = np.where(airbnb['last_review'].isnull(),'08-07-2019',airbnb['last_review'])\n",
        "airbnb.isnull().sum()"
      ],
      "metadata": {
        "id": "NOFCJUVYVDeb",
        "outputId": "339cbd4c-6f1e-4681-f4ca-36be575cfbfa",
        "colab": {
          "base_uri": "https://localhost:8080/"
        }
      },
      "execution_count": 22,
      "outputs": [
        {
          "output_type": "execute_result",
          "data": {
            "text/plain": [
              "id                                0\n",
              "name                              0\n",
              "host_id                           0\n",
              "host_name                         0\n",
              "neighbourhood_group               0\n",
              "neighbourhood                     0\n",
              "latitude                          0\n",
              "longitude                         0\n",
              "room_type                         0\n",
              "price                             0\n",
              "minimum_nights                    0\n",
              "number_of_reviews                 0\n",
              "last_review                       0\n",
              "calculated_host_listings_count    0\n",
              "availability_365                  0\n",
              "dtype: int64"
            ]
          },
          "metadata": {},
          "execution_count": 22
        }
      ]
    },
    {
      "cell_type": "code",
      "source": [
        "# now converting the last_review column of the airbnb datframe to datetime format\n",
        "airbnb['last_review']= airbnb.apply(lambda x : datetime.strptime(x['last_review'],'%d-%m-%Y'),axis=1)\n",
        "\n",
        "airbnb.info()"
      ],
      "metadata": {
        "id": "y9e2M1u3VGNE",
        "outputId": "6988f233-dae1-47a5-8980-a0cbb0ce0208",
        "colab": {
          "base_uri": "https://localhost:8080/"
        }
      },
      "execution_count": 23,
      "outputs": [
        {
          "output_type": "stream",
          "name": "stdout",
          "text": [
            "<class 'pandas.core.frame.DataFrame'>\n",
            "Int64Index: 48858 entries, 0 to 48894\n",
            "Data columns (total 15 columns):\n",
            " #   Column                          Non-Null Count  Dtype         \n",
            "---  ------                          --------------  -----         \n",
            " 0   id                              48858 non-null  int64         \n",
            " 1   name                            48858 non-null  object        \n",
            " 2   host_id                         48858 non-null  int64         \n",
            " 3   host_name                       48858 non-null  object        \n",
            " 4   neighbourhood_group             48858 non-null  object        \n",
            " 5   neighbourhood                   48858 non-null  object        \n",
            " 6   latitude                        48858 non-null  float64       \n",
            " 7   longitude                       48858 non-null  float64       \n",
            " 8   room_type                       48858 non-null  object        \n",
            " 9   price                           48858 non-null  int64         \n",
            " 10  minimum_nights                  48858 non-null  int64         \n",
            " 11  number_of_reviews               48858 non-null  int64         \n",
            " 12  last_review                     48858 non-null  datetime64[ns]\n",
            " 13  calculated_host_listings_count  48858 non-null  int64         \n",
            " 14  availability_365                48858 non-null  int64         \n",
            "dtypes: datetime64[ns](1), float64(2), int64(7), object(5)\n",
            "memory usage: 6.0+ MB\n"
          ]
        }
      ]
    },
    {
      "cell_type": "code",
      "source": [
        "# Finally all the missing values in the dataframe have been dealt with and now the dataset is ready for further analysis\n",
        "\n",
        "airbnb.isnull().sum()"
      ],
      "metadata": {
        "id": "2C3ww02aVIwa",
        "outputId": "2af847b6-97bc-4d9b-dffc-7a51178eb071",
        "colab": {
          "base_uri": "https://localhost:8080/"
        }
      },
      "execution_count": 24,
      "outputs": [
        {
          "output_type": "execute_result",
          "data": {
            "text/plain": [
              "id                                0\n",
              "name                              0\n",
              "host_id                           0\n",
              "host_name                         0\n",
              "neighbourhood_group               0\n",
              "neighbourhood                     0\n",
              "latitude                          0\n",
              "longitude                         0\n",
              "room_type                         0\n",
              "price                             0\n",
              "minimum_nights                    0\n",
              "number_of_reviews                 0\n",
              "last_review                       0\n",
              "calculated_host_listings_count    0\n",
              "availability_365                  0\n",
              "dtype: int64"
            ]
          },
          "metadata": {},
          "execution_count": 24
        }
      ]
    },
    {
      "cell_type": "code",
      "source": [
        "# Their is also problem with the price column\n",
        "\n",
        "airbnb['price'].describe()"
      ],
      "metadata": {
        "id": "eXvpnWdPVLKl",
        "outputId": "839ce56d-7914-47c8-99a0-038b98b88ae7",
        "colab": {
          "base_uri": "https://localhost:8080/"
        }
      },
      "execution_count": 25,
      "outputs": [
        {
          "output_type": "execute_result",
          "data": {
            "text/plain": [
              "count    48858.000000\n",
              "mean       152.740309\n",
              "std        240.232386\n",
              "min          0.000000\n",
              "25%         69.000000\n",
              "50%        106.000000\n",
              "75%        175.000000\n",
              "max      10000.000000\n",
              "Name: price, dtype: float64"
            ]
          },
          "metadata": {},
          "execution_count": 25
        }
      ]
    },
    {
      "cell_type": "markdown",
      "source": [
        "The minimum value for price of a property can't be Zero. "
      ],
      "metadata": {
        "id": "AJP9CxyHVOx8"
      }
    },
    {
      "cell_type": "code",
      "source": [
        "# Let us check how many values in price column are zero.\n",
        "\n",
        "airbnb[airbnb['price'] == 0]"
      ],
      "metadata": {
        "id": "csk_mQHLVRTE",
        "outputId": "cbf05fc3-bb4e-4f16-e03e-c06de8ab60ea",
        "colab": {
          "base_uri": "https://localhost:8080/",
          "height": 1000
        }
      },
      "execution_count": 26,
      "outputs": [
        {
          "output_type": "execute_result",
          "data": {
            "text/plain": [
              "             id                                               name    host_id  \\\n",
              "23161  18750597  Huge Brooklyn Brownstone Living, Close to it all.    8993084   \n",
              "25433  20333471      ★Hostel Style Room | Ideal Traveling Buddies★  131697576   \n",
              "25634  20523843    MARTIAL LOFT 3: REDEMPTION (upstairs, 2nd room)   15787004   \n",
              "25753  20608117                    Sunny, Quiet Room in Greenpoint    1641537   \n",
              "25778  20624541      Modern apartment in the heart of Williamsburg   10132166   \n",
              "25794  20639628  Spacious comfortable master bedroom with nice ...   86327101   \n",
              "25795  20639792  Contemporary bedroom in brownstone with nice view   86327101   \n",
              "25796  20639914       Cozy yet spacious private brownstone bedroom   86327101   \n",
              "26259  20933849                              the best you can find   13709292   \n",
              "26841  21291569  Coliving in Brooklyn! Modern design / Shared room  101970559   \n",
              "26866  21304320             Best Coliving space ever! Shared room.  101970559   \n",
              "\n",
              "          host_name neighbourhood_group       neighbourhood  latitude  \\\n",
              "23161      Kimberly            Brooklyn  Bedford-Stuyvesant  40.69023   \n",
              "25433        Anisha               Bronx     East Morrisania  40.83296   \n",
              "25634  Martial Loft            Brooklyn            Bushwick  40.69467   \n",
              "25753        Lauren            Brooklyn          Greenpoint  40.72462   \n",
              "25778       Aymeric            Brooklyn        Williamsburg  40.70838   \n",
              "25794       Adeyemi            Brooklyn  Bedford-Stuyvesant  40.68173   \n",
              "25795       Adeyemi            Brooklyn  Bedford-Stuyvesant  40.68279   \n",
              "25796       Adeyemi            Brooklyn  Bedford-Stuyvesant  40.68258   \n",
              "26259        Qiuchi           Manhattan         Murray Hill  40.75091   \n",
              "26841        Sergii            Brooklyn            Bushwick  40.69211   \n",
              "26866        Sergii            Brooklyn            Bushwick  40.69166   \n",
              "\n",
              "       longitude        room_type  price  minimum_nights  number_of_reviews  \\\n",
              "23161  -73.95428     Private room      0               4                  1   \n",
              "25433  -73.88668     Private room      0               2                 55   \n",
              "25634  -73.92433     Private room      0               2                 16   \n",
              "25753  -73.94072     Private room      0               2                 12   \n",
              "25778  -73.94645  Entire home/apt      0               5                  3   \n",
              "25794  -73.91342     Private room      0               1                 93   \n",
              "25795  -73.91170     Private room      0               1                 95   \n",
              "25796  -73.91284     Private room      0               1                 95   \n",
              "26259  -73.97597  Entire home/apt      0               3                  0   \n",
              "26841  -73.90670      Shared room      0              30                  2   \n",
              "26866  -73.90928      Shared room      0              30                  5   \n",
              "\n",
              "      last_review  calculated_host_listings_count  availability_365  \n",
              "23161  2018-01-06                               4                28  \n",
              "25433  2019-06-24                               4               127  \n",
              "25634  2019-05-18                               5                 0  \n",
              "25753  2017-10-27                               2                 0  \n",
              "25778  2018-01-02                               1                73  \n",
              "25794  2019-06-15                               6               176  \n",
              "25795  2019-06-21                               6               232  \n",
              "25796  2019-06-23                               6               222  \n",
              "26259  2019-07-08                               1                 0  \n",
              "26841  2019-06-22                               6               333  \n",
              "26866  2019-05-24                               6               139  "
            ],
            "text/html": [
              "\n",
              "  <div id=\"df-61c64437-8601-4239-855d-eb7d21719216\">\n",
              "    <div class=\"colab-df-container\">\n",
              "      <div>\n",
              "<style scoped>\n",
              "    .dataframe tbody tr th:only-of-type {\n",
              "        vertical-align: middle;\n",
              "    }\n",
              "\n",
              "    .dataframe tbody tr th {\n",
              "        vertical-align: top;\n",
              "    }\n",
              "\n",
              "    .dataframe thead th {\n",
              "        text-align: right;\n",
              "    }\n",
              "</style>\n",
              "<table border=\"1\" class=\"dataframe\">\n",
              "  <thead>\n",
              "    <tr style=\"text-align: right;\">\n",
              "      <th></th>\n",
              "      <th>id</th>\n",
              "      <th>name</th>\n",
              "      <th>host_id</th>\n",
              "      <th>host_name</th>\n",
              "      <th>neighbourhood_group</th>\n",
              "      <th>neighbourhood</th>\n",
              "      <th>latitude</th>\n",
              "      <th>longitude</th>\n",
              "      <th>room_type</th>\n",
              "      <th>price</th>\n",
              "      <th>minimum_nights</th>\n",
              "      <th>number_of_reviews</th>\n",
              "      <th>last_review</th>\n",
              "      <th>calculated_host_listings_count</th>\n",
              "      <th>availability_365</th>\n",
              "    </tr>\n",
              "  </thead>\n",
              "  <tbody>\n",
              "    <tr>\n",
              "      <th>23161</th>\n",
              "      <td>18750597</td>\n",
              "      <td>Huge Brooklyn Brownstone Living, Close to it all.</td>\n",
              "      <td>8993084</td>\n",
              "      <td>Kimberly</td>\n",
              "      <td>Brooklyn</td>\n",
              "      <td>Bedford-Stuyvesant</td>\n",
              "      <td>40.69023</td>\n",
              "      <td>-73.95428</td>\n",
              "      <td>Private room</td>\n",
              "      <td>0</td>\n",
              "      <td>4</td>\n",
              "      <td>1</td>\n",
              "      <td>2018-01-06</td>\n",
              "      <td>4</td>\n",
              "      <td>28</td>\n",
              "    </tr>\n",
              "    <tr>\n",
              "      <th>25433</th>\n",
              "      <td>20333471</td>\n",
              "      <td>★Hostel Style Room | Ideal Traveling Buddies★</td>\n",
              "      <td>131697576</td>\n",
              "      <td>Anisha</td>\n",
              "      <td>Bronx</td>\n",
              "      <td>East Morrisania</td>\n",
              "      <td>40.83296</td>\n",
              "      <td>-73.88668</td>\n",
              "      <td>Private room</td>\n",
              "      <td>0</td>\n",
              "      <td>2</td>\n",
              "      <td>55</td>\n",
              "      <td>2019-06-24</td>\n",
              "      <td>4</td>\n",
              "      <td>127</td>\n",
              "    </tr>\n",
              "    <tr>\n",
              "      <th>25634</th>\n",
              "      <td>20523843</td>\n",
              "      <td>MARTIAL LOFT 3: REDEMPTION (upstairs, 2nd room)</td>\n",
              "      <td>15787004</td>\n",
              "      <td>Martial Loft</td>\n",
              "      <td>Brooklyn</td>\n",
              "      <td>Bushwick</td>\n",
              "      <td>40.69467</td>\n",
              "      <td>-73.92433</td>\n",
              "      <td>Private room</td>\n",
              "      <td>0</td>\n",
              "      <td>2</td>\n",
              "      <td>16</td>\n",
              "      <td>2019-05-18</td>\n",
              "      <td>5</td>\n",
              "      <td>0</td>\n",
              "    </tr>\n",
              "    <tr>\n",
              "      <th>25753</th>\n",
              "      <td>20608117</td>\n",
              "      <td>Sunny, Quiet Room in Greenpoint</td>\n",
              "      <td>1641537</td>\n",
              "      <td>Lauren</td>\n",
              "      <td>Brooklyn</td>\n",
              "      <td>Greenpoint</td>\n",
              "      <td>40.72462</td>\n",
              "      <td>-73.94072</td>\n",
              "      <td>Private room</td>\n",
              "      <td>0</td>\n",
              "      <td>2</td>\n",
              "      <td>12</td>\n",
              "      <td>2017-10-27</td>\n",
              "      <td>2</td>\n",
              "      <td>0</td>\n",
              "    </tr>\n",
              "    <tr>\n",
              "      <th>25778</th>\n",
              "      <td>20624541</td>\n",
              "      <td>Modern apartment in the heart of Williamsburg</td>\n",
              "      <td>10132166</td>\n",
              "      <td>Aymeric</td>\n",
              "      <td>Brooklyn</td>\n",
              "      <td>Williamsburg</td>\n",
              "      <td>40.70838</td>\n",
              "      <td>-73.94645</td>\n",
              "      <td>Entire home/apt</td>\n",
              "      <td>0</td>\n",
              "      <td>5</td>\n",
              "      <td>3</td>\n",
              "      <td>2018-01-02</td>\n",
              "      <td>1</td>\n",
              "      <td>73</td>\n",
              "    </tr>\n",
              "    <tr>\n",
              "      <th>25794</th>\n",
              "      <td>20639628</td>\n",
              "      <td>Spacious comfortable master bedroom with nice ...</td>\n",
              "      <td>86327101</td>\n",
              "      <td>Adeyemi</td>\n",
              "      <td>Brooklyn</td>\n",
              "      <td>Bedford-Stuyvesant</td>\n",
              "      <td>40.68173</td>\n",
              "      <td>-73.91342</td>\n",
              "      <td>Private room</td>\n",
              "      <td>0</td>\n",
              "      <td>1</td>\n",
              "      <td>93</td>\n",
              "      <td>2019-06-15</td>\n",
              "      <td>6</td>\n",
              "      <td>176</td>\n",
              "    </tr>\n",
              "    <tr>\n",
              "      <th>25795</th>\n",
              "      <td>20639792</td>\n",
              "      <td>Contemporary bedroom in brownstone with nice view</td>\n",
              "      <td>86327101</td>\n",
              "      <td>Adeyemi</td>\n",
              "      <td>Brooklyn</td>\n",
              "      <td>Bedford-Stuyvesant</td>\n",
              "      <td>40.68279</td>\n",
              "      <td>-73.91170</td>\n",
              "      <td>Private room</td>\n",
              "      <td>0</td>\n",
              "      <td>1</td>\n",
              "      <td>95</td>\n",
              "      <td>2019-06-21</td>\n",
              "      <td>6</td>\n",
              "      <td>232</td>\n",
              "    </tr>\n",
              "    <tr>\n",
              "      <th>25796</th>\n",
              "      <td>20639914</td>\n",
              "      <td>Cozy yet spacious private brownstone bedroom</td>\n",
              "      <td>86327101</td>\n",
              "      <td>Adeyemi</td>\n",
              "      <td>Brooklyn</td>\n",
              "      <td>Bedford-Stuyvesant</td>\n",
              "      <td>40.68258</td>\n",
              "      <td>-73.91284</td>\n",
              "      <td>Private room</td>\n",
              "      <td>0</td>\n",
              "      <td>1</td>\n",
              "      <td>95</td>\n",
              "      <td>2019-06-23</td>\n",
              "      <td>6</td>\n",
              "      <td>222</td>\n",
              "    </tr>\n",
              "    <tr>\n",
              "      <th>26259</th>\n",
              "      <td>20933849</td>\n",
              "      <td>the best you can find</td>\n",
              "      <td>13709292</td>\n",
              "      <td>Qiuchi</td>\n",
              "      <td>Manhattan</td>\n",
              "      <td>Murray Hill</td>\n",
              "      <td>40.75091</td>\n",
              "      <td>-73.97597</td>\n",
              "      <td>Entire home/apt</td>\n",
              "      <td>0</td>\n",
              "      <td>3</td>\n",
              "      <td>0</td>\n",
              "      <td>2019-07-08</td>\n",
              "      <td>1</td>\n",
              "      <td>0</td>\n",
              "    </tr>\n",
              "    <tr>\n",
              "      <th>26841</th>\n",
              "      <td>21291569</td>\n",
              "      <td>Coliving in Brooklyn! Modern design / Shared room</td>\n",
              "      <td>101970559</td>\n",
              "      <td>Sergii</td>\n",
              "      <td>Brooklyn</td>\n",
              "      <td>Bushwick</td>\n",
              "      <td>40.69211</td>\n",
              "      <td>-73.90670</td>\n",
              "      <td>Shared room</td>\n",
              "      <td>0</td>\n",
              "      <td>30</td>\n",
              "      <td>2</td>\n",
              "      <td>2019-06-22</td>\n",
              "      <td>6</td>\n",
              "      <td>333</td>\n",
              "    </tr>\n",
              "    <tr>\n",
              "      <th>26866</th>\n",
              "      <td>21304320</td>\n",
              "      <td>Best Coliving space ever! Shared room.</td>\n",
              "      <td>101970559</td>\n",
              "      <td>Sergii</td>\n",
              "      <td>Brooklyn</td>\n",
              "      <td>Bushwick</td>\n",
              "      <td>40.69166</td>\n",
              "      <td>-73.90928</td>\n",
              "      <td>Shared room</td>\n",
              "      <td>0</td>\n",
              "      <td>30</td>\n",
              "      <td>5</td>\n",
              "      <td>2019-05-24</td>\n",
              "      <td>6</td>\n",
              "      <td>139</td>\n",
              "    </tr>\n",
              "  </tbody>\n",
              "</table>\n",
              "</div>\n",
              "      <button class=\"colab-df-convert\" onclick=\"convertToInteractive('df-61c64437-8601-4239-855d-eb7d21719216')\"\n",
              "              title=\"Convert this dataframe to an interactive table.\"\n",
              "              style=\"display:none;\">\n",
              "        \n",
              "  <svg xmlns=\"http://www.w3.org/2000/svg\" height=\"24px\"viewBox=\"0 0 24 24\"\n",
              "       width=\"24px\">\n",
              "    <path d=\"M0 0h24v24H0V0z\" fill=\"none\"/>\n",
              "    <path d=\"M18.56 5.44l.94 2.06.94-2.06 2.06-.94-2.06-.94-.94-2.06-.94 2.06-2.06.94zm-11 1L8.5 8.5l.94-2.06 2.06-.94-2.06-.94L8.5 2.5l-.94 2.06-2.06.94zm10 10l.94 2.06.94-2.06 2.06-.94-2.06-.94-.94-2.06-.94 2.06-2.06.94z\"/><path d=\"M17.41 7.96l-1.37-1.37c-.4-.4-.92-.59-1.43-.59-.52 0-1.04.2-1.43.59L10.3 9.45l-7.72 7.72c-.78.78-.78 2.05 0 2.83L4 21.41c.39.39.9.59 1.41.59.51 0 1.02-.2 1.41-.59l7.78-7.78 2.81-2.81c.8-.78.8-2.07 0-2.86zM5.41 20L4 18.59l7.72-7.72 1.47 1.35L5.41 20z\"/>\n",
              "  </svg>\n",
              "      </button>\n",
              "      \n",
              "  <style>\n",
              "    .colab-df-container {\n",
              "      display:flex;\n",
              "      flex-wrap:wrap;\n",
              "      gap: 12px;\n",
              "    }\n",
              "\n",
              "    .colab-df-convert {\n",
              "      background-color: #E8F0FE;\n",
              "      border: none;\n",
              "      border-radius: 50%;\n",
              "      cursor: pointer;\n",
              "      display: none;\n",
              "      fill: #1967D2;\n",
              "      height: 32px;\n",
              "      padding: 0 0 0 0;\n",
              "      width: 32px;\n",
              "    }\n",
              "\n",
              "    .colab-df-convert:hover {\n",
              "      background-color: #E2EBFA;\n",
              "      box-shadow: 0px 1px 2px rgba(60, 64, 67, 0.3), 0px 1px 3px 1px rgba(60, 64, 67, 0.15);\n",
              "      fill: #174EA6;\n",
              "    }\n",
              "\n",
              "    [theme=dark] .colab-df-convert {\n",
              "      background-color: #3B4455;\n",
              "      fill: #D2E3FC;\n",
              "    }\n",
              "\n",
              "    [theme=dark] .colab-df-convert:hover {\n",
              "      background-color: #434B5C;\n",
              "      box-shadow: 0px 1px 3px 1px rgba(0, 0, 0, 0.15);\n",
              "      filter: drop-shadow(0px 1px 2px rgba(0, 0, 0, 0.3));\n",
              "      fill: #FFFFFF;\n",
              "    }\n",
              "  </style>\n",
              "\n",
              "      <script>\n",
              "        const buttonEl =\n",
              "          document.querySelector('#df-61c64437-8601-4239-855d-eb7d21719216 button.colab-df-convert');\n",
              "        buttonEl.style.display =\n",
              "          google.colab.kernel.accessAllowed ? 'block' : 'none';\n",
              "\n",
              "        async function convertToInteractive(key) {\n",
              "          const element = document.querySelector('#df-61c64437-8601-4239-855d-eb7d21719216');\n",
              "          const dataTable =\n",
              "            await google.colab.kernel.invokeFunction('convertToInteractive',\n",
              "                                                     [key], {});\n",
              "          if (!dataTable) return;\n",
              "\n",
              "          const docLinkHtml = 'Like what you see? Visit the ' +\n",
              "            '<a target=\"_blank\" href=https://colab.research.google.com/notebooks/data_table.ipynb>data table notebook</a>'\n",
              "            + ' to learn more about interactive tables.';\n",
              "          element.innerHTML = '';\n",
              "          dataTable['output_type'] = 'display_data';\n",
              "          await google.colab.output.renderOutput(dataTable, element);\n",
              "          const docLink = document.createElement('div');\n",
              "          docLink.innerHTML = docLinkHtml;\n",
              "          element.appendChild(docLink);\n",
              "        }\n",
              "      </script>\n",
              "    </div>\n",
              "  </div>\n",
              "  "
            ]
          },
          "metadata": {},
          "execution_count": 26
        }
      ]
    },
    {
      "cell_type": "code",
      "source": [
        "# Since number of rows containing Zero as price are less these rows can be removed from the dataset\n",
        "airbnb = airbnb[airbnb['price'] != 0]\n",
        "airbnb\n"
      ],
      "metadata": {
        "id": "rwRMdbP0VUyT",
        "outputId": "0a0080c0-1434-473f-e04d-3e1bcf9026da",
        "colab": {
          "base_uri": "https://localhost:8080/",
          "height": 870
        }
      },
      "execution_count": 27,
      "outputs": [
        {
          "output_type": "execute_result",
          "data": {
            "text/plain": [
              "             id                                               name   host_id  \\\n",
              "0          2539                 Clean & quiet apt home by the park      2787   \n",
              "1          2595                              Skylit Midtown Castle      2845   \n",
              "2          3647                THE VILLAGE OF HARLEM....NEW YORK !      4632   \n",
              "3          3831                    Cozy Entire Floor of Brownstone      4869   \n",
              "4          5022   Entire Apt: Spacious Studio/Loft by central park      7192   \n",
              "...         ...                                                ...       ...   \n",
              "48890  36484665    Charming one bedroom - newly renovated rowhouse   8232441   \n",
              "48891  36485057      Affordable room in Bushwick/East Williamsburg   6570630   \n",
              "48892  36485431            Sunny Studio at Historical Neighborhood  23492952   \n",
              "48893  36485609               43rd St. Time Square-cozy single bed  30985759   \n",
              "48894  36487245  Trendy duplex in the very heart of Hell's Kitchen  68119814   \n",
              "\n",
              "           host_name neighbourhood_group       neighbourhood  latitude  \\\n",
              "0               John            Brooklyn          Kensington  40.64749   \n",
              "1           Jennifer           Manhattan             Midtown  40.75362   \n",
              "2          Elisabeth           Manhattan              Harlem  40.80902   \n",
              "3        LisaRoxanne            Brooklyn        Clinton Hill  40.68514   \n",
              "4              Laura           Manhattan         East Harlem  40.79851   \n",
              "...              ...                 ...                 ...       ...   \n",
              "48890        Sabrina            Brooklyn  Bedford-Stuyvesant  40.67853   \n",
              "48891        Marisol            Brooklyn            Bushwick  40.70184   \n",
              "48892  Ilgar & Aysel           Manhattan              Harlem  40.81475   \n",
              "48893            Taz           Manhattan      Hell's Kitchen  40.75751   \n",
              "48894     Christophe           Manhattan      Hell's Kitchen  40.76404   \n",
              "\n",
              "       longitude        room_type  price  minimum_nights  number_of_reviews  \\\n",
              "0      -73.97237     Private room    149               1                  9   \n",
              "1      -73.98377  Entire home/apt    225               1                 45   \n",
              "2      -73.94190     Private room    150               3                  0   \n",
              "3      -73.95976  Entire home/apt     89               1                270   \n",
              "4      -73.94399  Entire home/apt     80              10                  9   \n",
              "...          ...              ...    ...             ...                ...   \n",
              "48890  -73.94995     Private room     70               2                  0   \n",
              "48891  -73.93317     Private room     40               4                  0   \n",
              "48892  -73.94867  Entire home/apt    115              10                  0   \n",
              "48893  -73.99112      Shared room     55               1                  0   \n",
              "48894  -73.98933     Private room     90               7                  0   \n",
              "\n",
              "      last_review  calculated_host_listings_count  availability_365  \n",
              "0      2018-10-19                               6               365  \n",
              "1      2019-05-21                               2               355  \n",
              "2      2019-07-08                               1               365  \n",
              "3      2019-07-05                               1               194  \n",
              "4      2018-11-19                               1                 0  \n",
              "...           ...                             ...               ...  \n",
              "48890  2019-07-08                               2                 9  \n",
              "48891  2019-07-08                               2                36  \n",
              "48892  2019-07-08                               1                27  \n",
              "48893  2019-07-08                               6                 2  \n",
              "48894  2019-07-08                               1                23  \n",
              "\n",
              "[48847 rows x 15 columns]"
            ],
            "text/html": [
              "\n",
              "  <div id=\"df-b1e2f34a-710a-45aa-80bf-c5200aad1dd2\">\n",
              "    <div class=\"colab-df-container\">\n",
              "      <div>\n",
              "<style scoped>\n",
              "    .dataframe tbody tr th:only-of-type {\n",
              "        vertical-align: middle;\n",
              "    }\n",
              "\n",
              "    .dataframe tbody tr th {\n",
              "        vertical-align: top;\n",
              "    }\n",
              "\n",
              "    .dataframe thead th {\n",
              "        text-align: right;\n",
              "    }\n",
              "</style>\n",
              "<table border=\"1\" class=\"dataframe\">\n",
              "  <thead>\n",
              "    <tr style=\"text-align: right;\">\n",
              "      <th></th>\n",
              "      <th>id</th>\n",
              "      <th>name</th>\n",
              "      <th>host_id</th>\n",
              "      <th>host_name</th>\n",
              "      <th>neighbourhood_group</th>\n",
              "      <th>neighbourhood</th>\n",
              "      <th>latitude</th>\n",
              "      <th>longitude</th>\n",
              "      <th>room_type</th>\n",
              "      <th>price</th>\n",
              "      <th>minimum_nights</th>\n",
              "      <th>number_of_reviews</th>\n",
              "      <th>last_review</th>\n",
              "      <th>calculated_host_listings_count</th>\n",
              "      <th>availability_365</th>\n",
              "    </tr>\n",
              "  </thead>\n",
              "  <tbody>\n",
              "    <tr>\n",
              "      <th>0</th>\n",
              "      <td>2539</td>\n",
              "      <td>Clean &amp; quiet apt home by the park</td>\n",
              "      <td>2787</td>\n",
              "      <td>John</td>\n",
              "      <td>Brooklyn</td>\n",
              "      <td>Kensington</td>\n",
              "      <td>40.64749</td>\n",
              "      <td>-73.97237</td>\n",
              "      <td>Private room</td>\n",
              "      <td>149</td>\n",
              "      <td>1</td>\n",
              "      <td>9</td>\n",
              "      <td>2018-10-19</td>\n",
              "      <td>6</td>\n",
              "      <td>365</td>\n",
              "    </tr>\n",
              "    <tr>\n",
              "      <th>1</th>\n",
              "      <td>2595</td>\n",
              "      <td>Skylit Midtown Castle</td>\n",
              "      <td>2845</td>\n",
              "      <td>Jennifer</td>\n",
              "      <td>Manhattan</td>\n",
              "      <td>Midtown</td>\n",
              "      <td>40.75362</td>\n",
              "      <td>-73.98377</td>\n",
              "      <td>Entire home/apt</td>\n",
              "      <td>225</td>\n",
              "      <td>1</td>\n",
              "      <td>45</td>\n",
              "      <td>2019-05-21</td>\n",
              "      <td>2</td>\n",
              "      <td>355</td>\n",
              "    </tr>\n",
              "    <tr>\n",
              "      <th>2</th>\n",
              "      <td>3647</td>\n",
              "      <td>THE VILLAGE OF HARLEM....NEW YORK !</td>\n",
              "      <td>4632</td>\n",
              "      <td>Elisabeth</td>\n",
              "      <td>Manhattan</td>\n",
              "      <td>Harlem</td>\n",
              "      <td>40.80902</td>\n",
              "      <td>-73.94190</td>\n",
              "      <td>Private room</td>\n",
              "      <td>150</td>\n",
              "      <td>3</td>\n",
              "      <td>0</td>\n",
              "      <td>2019-07-08</td>\n",
              "      <td>1</td>\n",
              "      <td>365</td>\n",
              "    </tr>\n",
              "    <tr>\n",
              "      <th>3</th>\n",
              "      <td>3831</td>\n",
              "      <td>Cozy Entire Floor of Brownstone</td>\n",
              "      <td>4869</td>\n",
              "      <td>LisaRoxanne</td>\n",
              "      <td>Brooklyn</td>\n",
              "      <td>Clinton Hill</td>\n",
              "      <td>40.68514</td>\n",
              "      <td>-73.95976</td>\n",
              "      <td>Entire home/apt</td>\n",
              "      <td>89</td>\n",
              "      <td>1</td>\n",
              "      <td>270</td>\n",
              "      <td>2019-07-05</td>\n",
              "      <td>1</td>\n",
              "      <td>194</td>\n",
              "    </tr>\n",
              "    <tr>\n",
              "      <th>4</th>\n",
              "      <td>5022</td>\n",
              "      <td>Entire Apt: Spacious Studio/Loft by central park</td>\n",
              "      <td>7192</td>\n",
              "      <td>Laura</td>\n",
              "      <td>Manhattan</td>\n",
              "      <td>East Harlem</td>\n",
              "      <td>40.79851</td>\n",
              "      <td>-73.94399</td>\n",
              "      <td>Entire home/apt</td>\n",
              "      <td>80</td>\n",
              "      <td>10</td>\n",
              "      <td>9</td>\n",
              "      <td>2018-11-19</td>\n",
              "      <td>1</td>\n",
              "      <td>0</td>\n",
              "    </tr>\n",
              "    <tr>\n",
              "      <th>...</th>\n",
              "      <td>...</td>\n",
              "      <td>...</td>\n",
              "      <td>...</td>\n",
              "      <td>...</td>\n",
              "      <td>...</td>\n",
              "      <td>...</td>\n",
              "      <td>...</td>\n",
              "      <td>...</td>\n",
              "      <td>...</td>\n",
              "      <td>...</td>\n",
              "      <td>...</td>\n",
              "      <td>...</td>\n",
              "      <td>...</td>\n",
              "      <td>...</td>\n",
              "      <td>...</td>\n",
              "    </tr>\n",
              "    <tr>\n",
              "      <th>48890</th>\n",
              "      <td>36484665</td>\n",
              "      <td>Charming one bedroom - newly renovated rowhouse</td>\n",
              "      <td>8232441</td>\n",
              "      <td>Sabrina</td>\n",
              "      <td>Brooklyn</td>\n",
              "      <td>Bedford-Stuyvesant</td>\n",
              "      <td>40.67853</td>\n",
              "      <td>-73.94995</td>\n",
              "      <td>Private room</td>\n",
              "      <td>70</td>\n",
              "      <td>2</td>\n",
              "      <td>0</td>\n",
              "      <td>2019-07-08</td>\n",
              "      <td>2</td>\n",
              "      <td>9</td>\n",
              "    </tr>\n",
              "    <tr>\n",
              "      <th>48891</th>\n",
              "      <td>36485057</td>\n",
              "      <td>Affordable room in Bushwick/East Williamsburg</td>\n",
              "      <td>6570630</td>\n",
              "      <td>Marisol</td>\n",
              "      <td>Brooklyn</td>\n",
              "      <td>Bushwick</td>\n",
              "      <td>40.70184</td>\n",
              "      <td>-73.93317</td>\n",
              "      <td>Private room</td>\n",
              "      <td>40</td>\n",
              "      <td>4</td>\n",
              "      <td>0</td>\n",
              "      <td>2019-07-08</td>\n",
              "      <td>2</td>\n",
              "      <td>36</td>\n",
              "    </tr>\n",
              "    <tr>\n",
              "      <th>48892</th>\n",
              "      <td>36485431</td>\n",
              "      <td>Sunny Studio at Historical Neighborhood</td>\n",
              "      <td>23492952</td>\n",
              "      <td>Ilgar &amp; Aysel</td>\n",
              "      <td>Manhattan</td>\n",
              "      <td>Harlem</td>\n",
              "      <td>40.81475</td>\n",
              "      <td>-73.94867</td>\n",
              "      <td>Entire home/apt</td>\n",
              "      <td>115</td>\n",
              "      <td>10</td>\n",
              "      <td>0</td>\n",
              "      <td>2019-07-08</td>\n",
              "      <td>1</td>\n",
              "      <td>27</td>\n",
              "    </tr>\n",
              "    <tr>\n",
              "      <th>48893</th>\n",
              "      <td>36485609</td>\n",
              "      <td>43rd St. Time Square-cozy single bed</td>\n",
              "      <td>30985759</td>\n",
              "      <td>Taz</td>\n",
              "      <td>Manhattan</td>\n",
              "      <td>Hell's Kitchen</td>\n",
              "      <td>40.75751</td>\n",
              "      <td>-73.99112</td>\n",
              "      <td>Shared room</td>\n",
              "      <td>55</td>\n",
              "      <td>1</td>\n",
              "      <td>0</td>\n",
              "      <td>2019-07-08</td>\n",
              "      <td>6</td>\n",
              "      <td>2</td>\n",
              "    </tr>\n",
              "    <tr>\n",
              "      <th>48894</th>\n",
              "      <td>36487245</td>\n",
              "      <td>Trendy duplex in the very heart of Hell's Kitchen</td>\n",
              "      <td>68119814</td>\n",
              "      <td>Christophe</td>\n",
              "      <td>Manhattan</td>\n",
              "      <td>Hell's Kitchen</td>\n",
              "      <td>40.76404</td>\n",
              "      <td>-73.98933</td>\n",
              "      <td>Private room</td>\n",
              "      <td>90</td>\n",
              "      <td>7</td>\n",
              "      <td>0</td>\n",
              "      <td>2019-07-08</td>\n",
              "      <td>1</td>\n",
              "      <td>23</td>\n",
              "    </tr>\n",
              "  </tbody>\n",
              "</table>\n",
              "<p>48847 rows × 15 columns</p>\n",
              "</div>\n",
              "      <button class=\"colab-df-convert\" onclick=\"convertToInteractive('df-b1e2f34a-710a-45aa-80bf-c5200aad1dd2')\"\n",
              "              title=\"Convert this dataframe to an interactive table.\"\n",
              "              style=\"display:none;\">\n",
              "        \n",
              "  <svg xmlns=\"http://www.w3.org/2000/svg\" height=\"24px\"viewBox=\"0 0 24 24\"\n",
              "       width=\"24px\">\n",
              "    <path d=\"M0 0h24v24H0V0z\" fill=\"none\"/>\n",
              "    <path d=\"M18.56 5.44l.94 2.06.94-2.06 2.06-.94-2.06-.94-.94-2.06-.94 2.06-2.06.94zm-11 1L8.5 8.5l.94-2.06 2.06-.94-2.06-.94L8.5 2.5l-.94 2.06-2.06.94zm10 10l.94 2.06.94-2.06 2.06-.94-2.06-.94-.94-2.06-.94 2.06-2.06.94z\"/><path d=\"M17.41 7.96l-1.37-1.37c-.4-.4-.92-.59-1.43-.59-.52 0-1.04.2-1.43.59L10.3 9.45l-7.72 7.72c-.78.78-.78 2.05 0 2.83L4 21.41c.39.39.9.59 1.41.59.51 0 1.02-.2 1.41-.59l7.78-7.78 2.81-2.81c.8-.78.8-2.07 0-2.86zM5.41 20L4 18.59l7.72-7.72 1.47 1.35L5.41 20z\"/>\n",
              "  </svg>\n",
              "      </button>\n",
              "      \n",
              "  <style>\n",
              "    .colab-df-container {\n",
              "      display:flex;\n",
              "      flex-wrap:wrap;\n",
              "      gap: 12px;\n",
              "    }\n",
              "\n",
              "    .colab-df-convert {\n",
              "      background-color: #E8F0FE;\n",
              "      border: none;\n",
              "      border-radius: 50%;\n",
              "      cursor: pointer;\n",
              "      display: none;\n",
              "      fill: #1967D2;\n",
              "      height: 32px;\n",
              "      padding: 0 0 0 0;\n",
              "      width: 32px;\n",
              "    }\n",
              "\n",
              "    .colab-df-convert:hover {\n",
              "      background-color: #E2EBFA;\n",
              "      box-shadow: 0px 1px 2px rgba(60, 64, 67, 0.3), 0px 1px 3px 1px rgba(60, 64, 67, 0.15);\n",
              "      fill: #174EA6;\n",
              "    }\n",
              "\n",
              "    [theme=dark] .colab-df-convert {\n",
              "      background-color: #3B4455;\n",
              "      fill: #D2E3FC;\n",
              "    }\n",
              "\n",
              "    [theme=dark] .colab-df-convert:hover {\n",
              "      background-color: #434B5C;\n",
              "      box-shadow: 0px 1px 3px 1px rgba(0, 0, 0, 0.15);\n",
              "      filter: drop-shadow(0px 1px 2px rgba(0, 0, 0, 0.3));\n",
              "      fill: #FFFFFF;\n",
              "    }\n",
              "  </style>\n",
              "\n",
              "      <script>\n",
              "        const buttonEl =\n",
              "          document.querySelector('#df-b1e2f34a-710a-45aa-80bf-c5200aad1dd2 button.colab-df-convert');\n",
              "        buttonEl.style.display =\n",
              "          google.colab.kernel.accessAllowed ? 'block' : 'none';\n",
              "\n",
              "        async function convertToInteractive(key) {\n",
              "          const element = document.querySelector('#df-b1e2f34a-710a-45aa-80bf-c5200aad1dd2');\n",
              "          const dataTable =\n",
              "            await google.colab.kernel.invokeFunction('convertToInteractive',\n",
              "                                                     [key], {});\n",
              "          if (!dataTable) return;\n",
              "\n",
              "          const docLinkHtml = 'Like what you see? Visit the ' +\n",
              "            '<a target=\"_blank\" href=https://colab.research.google.com/notebooks/data_table.ipynb>data table notebook</a>'\n",
              "            + ' to learn more about interactive tables.';\n",
              "          element.innerHTML = '';\n",
              "          dataTable['output_type'] = 'display_data';\n",
              "          await google.colab.output.renderOutput(dataTable, element);\n",
              "          const docLink = document.createElement('div');\n",
              "          docLink.innerHTML = docLinkHtml;\n",
              "          element.appendChild(docLink);\n",
              "        }\n",
              "      </script>\n",
              "    </div>\n",
              "  </div>\n",
              "  "
            ]
          },
          "metadata": {},
          "execution_count": 27
        }
      ]
    },
    {
      "cell_type": "markdown",
      "source": [
        "### Manipulations done on the dataset"
      ],
      "metadata": {
        "id": "MSa1f5Uengrz"
      }
    },
    {
      "cell_type": "markdown",
      "source": [
        "The columns name, host_name, last_reviews and reviews_per_month had missing/null values.<br>\n",
        "<ul>\n",
        "\n",
        "<li>The number of missing values for the column name are 16 only so, the rows containing missing values for name column have been removed. </li>\n",
        "  <li>The number of missing values for the column host_name are 21 only so, the rows containing missing values for host_name have been removed. </li>\n",
        "  <li>The column reviews_per_month has 10037 number of missing values.There is no way to calculate reviews_per_month for the missing values from the number_of_reviews column as which property has been listed for how many months is not provided in the dataset. If it would have been provided then reviews_per_month could have been calculated by dividing number_of_reviews by the the months for which the property has been listed. So, there is no other option than dropping the reviews_per_month column and hence it has been dropped.</li>\n",
        "  <li>To fill in the missing values in the last_review column, the approach taken is to replace them with the most recent date available in the column. This assumption is based on the belief that properties with zero number_of_reviews are typically new listings on Airbnb. However, it is important to note that there could be some older properties with zero reviews, although this scenario is highly unlikely.\n",
        "  </li>\n",
        "  <li>The rows containing zero value for price have been removed from the dataset as number of such rows was very less and price can't be zero for a property.\n",
        "  </li>\n",
        "</ul>"
      ],
      "metadata": {
        "id": "LbyXE7I1olp8"
      }
    },
    {
      "cell_type": "markdown",
      "source": [
        "## ***4. Data Vizualization, Storytelling & Experimenting with charts : Understanding the relationships between variables***"
      ],
      "metadata": {
        "id": "GF8Ens_Soomf"
      }
    },
    {
      "cell_type": "code",
      "source": [
        "airbnb.columns"
      ],
      "metadata": {
        "id": "iKAnM1MpqKVw",
        "outputId": "02801792-0869-45c1-f705-7a532b561c70",
        "colab": {
          "base_uri": "https://localhost:8080/"
        }
      },
      "execution_count": 28,
      "outputs": [
        {
          "output_type": "execute_result",
          "data": {
            "text/plain": [
              "Index(['id', 'name', 'host_id', 'host_name', 'neighbourhood_group',\n",
              "       'neighbourhood', 'latitude', 'longitude', 'room_type', 'price',\n",
              "       'minimum_nights', 'number_of_reviews', 'last_review',\n",
              "       'calculated_host_listings_count', 'availability_365'],\n",
              "      dtype='object')"
            ]
          },
          "metadata": {},
          "execution_count": 28
        }
      ]
    },
    {
      "cell_type": "markdown",
      "source": [
        "#### Chart - 1"
      ],
      "metadata": {
        "id": "0wOQAZs5pc--"
      }
    },
    {
      "cell_type": "code",
      "source": [
        "# Top 3 properties names with highest listings\n",
        "\n",
        "airbnb['name'].value_counts().head(3)"
      ],
      "metadata": {
        "id": "LXEgTfYVqOfi",
        "outputId": "3471b640-0d0d-472d-8909-d83deec0e64f",
        "colab": {
          "base_uri": "https://localhost:8080/"
        }
      },
      "execution_count": 29,
      "outputs": [
        {
          "output_type": "execute_result",
          "data": {
            "text/plain": [
              "Hillside Hotel                  18\n",
              "Home away from home             17\n",
              "New york Multi-unit building    16\n",
              "Name: name, dtype: int64"
            ]
          },
          "metadata": {},
          "execution_count": 29
        }
      ]
    },
    {
      "cell_type": "code",
      "source": [
        "# Chart - 1 visualization code\n",
        "\n",
        "plt.figure(figsize =(10,5))\n",
        "\n",
        "# creating the barplot with Seaborn\n",
        "sns.barplot(x= airbnb['name'].value_counts().head(3).index, \n",
        "            y= airbnb['name'].value_counts().head(3).values, \n",
        "            palette= 'rocket',\n",
        "            width = 0.5)\n",
        "\n",
        "\n",
        "# setting plot title and labels\n",
        "plt.title('Top 3 Property names with highest listings', fontsize = 18)\n",
        "plt.xlabel('Property', fontsize = 14)\n",
        "plt.ylabel('Number of Listings', fontsize = 14)\n",
        "\n",
        "# changing fontsize of tick labels\n",
        "plt.tick_params(axis='x', labelsize=10)\n",
        "plt.tick_params(axis='y', labelsize=10)\n",
        "\n",
        "# rotate x-axis labels\n",
        "plt.xticks(rotation= 30)\n",
        "\n",
        "# display plot\n",
        "plt.show()"
      ],
      "metadata": {
        "id": "7v_ESjsspbW7",
        "outputId": "d9886f82-9599-461d-ef79-856f60a57543",
        "colab": {
          "base_uri": "https://localhost:8080/",
          "height": 593
        }
      },
      "execution_count": 30,
      "outputs": [
        {
          "output_type": "display_data",
          "data": {
            "text/plain": [
              "<Figure size 1000x500 with 1 Axes>"
            ],
            "image/png": "[encoded data removed]"
          },
          "metadata": {}
        }
      ]
    },
    {
      "cell_type": "markdown",
      "source": [
        "##### 1. Reason for this specific chart"
      ],
      "metadata": {
        "id": "K5QZ13OEpz2H"
      }
    },
    {
      "cell_type": "markdown",
      "source": [
        "A bar chart is a common and effective way to visually represent categorical data, where the x-axis represents the categories and the y-axis represents the frequency or count of each category. A bar chart is a simple and easy-to-understand visual representation of the data, making it accessible to a wider audience."
      ],
      "metadata": {
        "id": "XESiWehPqBRc"
      }
    },
    {
      "cell_type": "markdown",
      "source": [
        "##### 2. The insight(s) found from the chart"
      ],
      "metadata": {
        "id": "lQ7QKXXCp7Bj"
      }
    },
    {
      "cell_type": "markdown",
      "source": [
        "The properties with the names Hillside Hotel, Home away from home, and New york Multi-unit building are the top 3 most listed properties according to property name."
      ],
      "metadata": {
        "id": "C_j1G7yiqdRP"
      }
    },
    {
      "cell_type": "markdown",
      "source": [
        "#### Chart - 2"
      ],
      "metadata": {
        "id": "KSlN3yHqYklG"
      }
    },
    {
      "cell_type": "code",
      "source": [
        "# Top 5 host_name who are caretakers of maximum properties\n",
        "\n",
        "airbnb['host_name'].value_counts().head()"
      ],
      "metadata": {
        "id": "5HgNfbWSqoGL",
        "outputId": "43b2b655-c62f-4270-d896-8be58918d1c2",
        "colab": {
          "base_uri": "https://localhost:8080/"
        }
      },
      "execution_count": 31,
      "outputs": [
        {
          "output_type": "execute_result",
          "data": {
            "text/plain": [
              "Michael         417\n",
              "David           403\n",
              "Sonder (NYC)    327\n",
              "John            294\n",
              "Alex            279\n",
              "Name: host_name, dtype: int64"
            ]
          },
          "metadata": {},
          "execution_count": 31
        }
      ]
    },
    {
      "cell_type": "code",
      "source": [
        "# Chart - 2 visualization code\n",
        "\n",
        "plt.figure(figsize = (7,5))\n",
        "\n",
        "# creating the barplot with Seaborn\n",
        "sns.barplot(x= airbnb['host_name'].value_counts().head().index, \n",
        "            y= airbnb['host_name'].value_counts().head().values, \n",
        "            palette= 'cubehelix',\n",
        "            width = 0.5\n",
        "            )\n",
        "\n",
        "\n",
        "# setting plot title and labels\n",
        "plt.title('Top 5 host_name with highest listings', fontsize = 15)\n",
        "plt.xlabel('host_name', fontsize = 14)\n",
        "plt.ylabel('Number of Listings', fontsize = 14)\n",
        "\n",
        "# changing fontsize of tick labels\n",
        "plt.tick_params(axis='x', labelsize=10)\n",
        "plt.tick_params(axis='y', labelsize=10)\n",
        "\n",
        "# display plot\n",
        "plt.show()"
      ],
      "metadata": {
        "id": "R4YgtaqtYklH",
        "outputId": "efab0cea-3ab8-4555-8ed5-03e96197a8a9",
        "colab": {
          "base_uri": "https://localhost:8080/",
          "height": 495
        }
      },
      "execution_count": 32,
      "outputs": [
        {
          "output_type": "display_data",
          "data": {
            "text/plain": [
              "<Figure size 700x500 with 1 Axes>"
            ],
            "image/png": "[encoded data removed]"
          },
          "metadata": {}
        }
      ]
    },
    {
      "cell_type": "markdown",
      "source": [
        "##### 1. Reason for this specific chart"
      ],
      "metadata": {
        "id": "t6dVpIINYklI"
      }
    },
    {
      "cell_type": "markdown",
      "source": [
        "A bar chart is a common and effective way to visually represent categorical data, where the x-axis represents the categories and the y-axis represents the frequency or count of each category.A bar chart is a simple and easy-to-understand visual representation of the data, making it accessible to a wider audience."
      ],
      "metadata": {
        "id": "5aaW0BYyYklI"
      }
    },
    {
      "cell_type": "markdown",
      "source": [
        "##### 2. The insight(s) found from the chart"
      ],
      "metadata": {
        "id": "ijmpgYnKYklI"
      }
    },
    {
      "cell_type": "markdown",
      "source": [
        "The top 5 host who have maximum listings are Michael, David, Sonder, John, and Alex."
      ],
      "metadata": {
        "id": "PSx9atu2YklI"
      }
    },
    {
      "cell_type": "markdown",
      "source": [
        "##### 3. Business impact"
      ],
      "metadata": {
        "id": "-JiQyfWJYklI"
      }
    },
    {
      "cell_type": "markdown",
      "source": [
        "This provides us with the information about the top hosts in NYC and so now Airbnb knows who are the top performing hosts."
      ],
      "metadata": {
        "id": "BcBbebzrYklV"
      }
    },
    {
      "cell_type": "markdown",
      "source": [
        "#### Chart - 3"
      ],
      "metadata": {
        "id": "EM7whBJCYoAo"
      }
    },
    {
      "cell_type": "code",
      "source": [
        "# neighbourhood_group with their associated number of properties\n",
        "\n",
        "airbnb['neighbourhood_group'].value_counts()"
      ],
      "metadata": {
        "id": "UQe5XHCurCf3",
        "outputId": "90322633-f4ee-4a4d-8173-f94265db2097",
        "colab": {
          "base_uri": "https://localhost:8080/"
        }
      },
      "execution_count": 33,
      "outputs": [
        {
          "output_type": "execute_result",
          "data": {
            "text/plain": [
              "Manhattan        21642\n",
              "Brooklyn         20080\n",
              "Queens            5664\n",
              "Bronx             1088\n",
              "Staten Island      373\n",
              "Name: neighbourhood_group, dtype: int64"
            ]
          },
          "metadata": {},
          "execution_count": 33
        }
      ]
    },
    {
      "cell_type": "code",
      "source": [
        "# Chart - 3 visualization code\n",
        "\n",
        "plt.figure(figsize = (7,5))\n",
        "\n",
        "# creating the countplot with Seaborn\n",
        "\n",
        "ax = sns.countplot(data = airbnb, x = 'neighbourhood_group')\n",
        "\n",
        "for bars in ax.containers:\n",
        "    ax.bar_label(bars)\n",
        "\n",
        "\n",
        "# setting plot title and labels\n",
        "plt.title('Top 5 neighbourhood_groups with highest listings', fontsize = 15)\n",
        "plt.xlabel('neighbourhood_group', fontsize = 14)\n",
        "plt.ylabel('Number of properties', fontsize = 14)\n",
        "\n",
        "# changing fontsize of tick labels\n",
        "plt.tick_params(axis='x', labelsize=10)\n",
        "plt.tick_params(axis='y', labelsize=10)\n",
        "\n",
        "# display plot\n",
        "plt.show()"
      ],
      "metadata": {
        "id": "t6GMdE67YoAp",
        "outputId": "fa84d29b-7f07-482d-c202-353997f5bced",
        "colab": {
          "base_uri": "https://localhost:8080/",
          "height": 495
        }
      },
      "execution_count": 34,
      "outputs": [
        {
          "output_type": "display_data",
          "data": {
            "text/plain": [
              "<Figure size 700x500 with 1 Axes>"
            ],
            "image/png": "[encoded data removed]"
          },
          "metadata": {}
        }
      ]
    },
    {
      "cell_type": "markdown",
      "source": [
        "##### 1. Reason for this specific chart"
      ],
      "metadata": {
        "id": "fge-S5ZAYoAp"
      }
    },
    {
      "cell_type": "markdown",
      "source": [
        "Countplots are particularly useful when you want to understand how many times each category appears in a dataset. "
      ],
      "metadata": {
        "id": "5dBItgRVYoAp"
      }
    },
    {
      "cell_type": "markdown",
      "source": [
        "##### 2. The insight(s) found from the chart"
      ],
      "metadata": {
        "id": "85gYPyotYoAp"
      }
    },
    {
      "cell_type": "markdown",
      "source": [
        "The most number of properties listed are present in Manhattan and Brooklyn followed by Queens, Bronx, and Staten Island."
      ],
      "metadata": {
        "id": "4jstXR6OYoAp"
      }
    },
    {
      "cell_type": "markdown",
      "source": [
        "##### 3. Business impact"
      ],
      "metadata": {
        "id": "RoGjAbkUYoAp"
      }
    },
    {
      "cell_type": "markdown",
      "source": [
        "This tells that there are already a lot of properties listed in Manhattan and Brooklyn. Airbnb should expand in Queens, Staten Island, and Bronx as these have less number of properties listed."
      ],
      "metadata": {
        "id": "zfJ8IqMcYoAp"
      }
    },
    {
      "cell_type": "markdown",
      "source": [
        "#### Chart - 4"
      ],
      "metadata": {
        "id": "4Of9eVA-YrdM"
      }
    },
    {
      "cell_type": "code",
      "source": [
        "# Top 5 neighbourhood with maximum number of properties\n",
        "\n",
        "airbnb['neighbourhood'].value_counts().head()"
      ],
      "metadata": {
        "id": "rrnWQW8JraYT",
        "outputId": "00dda7f6-77b7-44ee-c275-42448a51091c",
        "colab": {
          "base_uri": "https://localhost:8080/"
        }
      },
      "execution_count": 35,
      "outputs": [
        {
          "output_type": "execute_result",
          "data": {
            "text/plain": [
              "Williamsburg          3916\n",
              "Bedford-Stuyvesant    3709\n",
              "Harlem                2655\n",
              "Bushwick              2459\n",
              "Upper West Side       1969\n",
              "Name: neighbourhood, dtype: int64"
            ]
          },
          "metadata": {},
          "execution_count": 35
        }
      ]
    },
    {
      "cell_type": "code",
      "source": [
        "# Chart - 4 visualization code\n",
        "\n",
        "plt.figure(figsize = (7,5))\n",
        "\n",
        "# creating the barplot with Seaborn\n",
        "sns.barplot(x= airbnb['neighbourhood'].value_counts().head().index, \n",
        "            y= airbnb['neighbourhood'].value_counts().head().values, \n",
        "            palette= 'Paired',\n",
        "            width = 0.5\n",
        "            )\n",
        "\n",
        "\n",
        "# setting plot title and labels\n",
        "plt.title('Top 5 neighbourhood with highest listings', fontsize = 15)\n",
        "plt.xlabel('neighbourhood', fontsize = 14)\n",
        "plt.ylabel('Number of Listings', fontsize = 14)\n",
        "\n",
        "# changing fontsize of tick labels\n",
        "plt.tick_params(axis='x', labelsize=10)\n",
        "plt.tick_params(axis='y', labelsize=10)\n",
        "\n",
        "# rotate x-axis labels\n",
        "plt.xticks(rotation= 30)\n",
        "\n",
        "# display plot\n",
        "plt.show()"
      ],
      "metadata": {
        "id": "irlUoxc8YrdO",
        "outputId": "ec9ff0a9-072d-45c4-aaeb-88cab151cace",
        "colab": {
          "base_uri": "https://localhost:8080/",
          "height": 561
        }
      },
      "execution_count": 36,
      "outputs": [
        {
          "output_type": "display_data",
          "data": {
            "text/plain": [
              "<Figure size 700x500 with 1 Axes>"
            ],
            "image/png": "[encoded data removed]"
          },
          "metadata": {}
        }
      ]
    },
    {
      "cell_type": "markdown",
      "source": [
        "##### 1. Reason for this specific chart"
      ],
      "metadata": {
        "id": "iky9q4vBYrdO"
      }
    },
    {
      "cell_type": "markdown",
      "source": [
        "A bar chart is a common and effective way to visually represent categorical data, where the x-axis represents the categories and the y-axis represents the frequency or count of each category.A bar chart is a simple and easy-to-understand visual representation of the data, making it accessible to a wider audience."
      ],
      "metadata": {
        "id": "aJRCwT6DYrdO"
      }
    },
    {
      "cell_type": "markdown",
      "source": [
        "##### 2. The insight(s) found from the chart"
      ],
      "metadata": {
        "id": "F6T5p64dYrdO"
      }
    },
    {
      "cell_type": "markdown",
      "source": [
        "The neighbourhood with most properties listed are Williamsburg and Bedford-Stuyvesant followed by Harlem, Bushwich, and Upper West Side."
      ],
      "metadata": {
        "id": "Xx8WAJvtYrdO"
      }
    },
    {
      "cell_type": "markdown",
      "source": [
        "##### 3. Business impact"
      ],
      "metadata": {
        "id": "y-Ehk30pYrdP"
      }
    },
    {
      "cell_type": "markdown",
      "source": [
        "Since the neighbourhoods Williamsburg and Bedford-Stuyvesant have most properties listed this means that these neighbourhoods are most popular amongst the customers and more focus should be put on the properties in these areas."
      ],
      "metadata": {
        "id": "jLNxxz7MYrdP"
      }
    },
    {
      "cell_type": "markdown",
      "source": [
        "#### Chart - 5"
      ],
      "metadata": {
        "id": "bamQiAODYuh1"
      }
    },
    {
      "cell_type": "markdown",
      "source": [
        "Visualizing Property density in neighbourhood groups"
      ],
      "metadata": {
        "id": "86Vf7vZ6r0HV"
      }
    },
    {
      "cell_type": "code",
      "source": [
        "# Chart - 5 visualization code\n",
        "\n",
        "# creating scatter plot showing the density of properties in different neighbourhood_group\n",
        "sns.scatterplot(x= 'longitude', y= 'latitude', data= airbnb, hue= 'neighbourhood_group')\n",
        "\n",
        "# set the x-axis and y-axis labels\n",
        "\n",
        "plt.xlabel('latitude', fontsize = 12)\n",
        "plt.ylabel('longitude', fontsize = 12)\n",
        "\n",
        "# set the title\n",
        "plt.title('Property Location Plot', fontsize = 15 )\n",
        "\n",
        "# display the plot\n",
        "plt.show()\n",
        "\n",
        "# The plot made by scatter plot represents the map of NYC. It can be confirmed by checking the map achieved by scatterplot with the image of the NYC map from google image."
      ],
      "metadata": {
        "id": "TIJwrbroYuh3",
        "outputId": "370a0f91-0459-438a-a8fb-6d1eb55eac7b",
        "colab": {
          "base_uri": "https://localhost:8080/",
          "height": 478
        }
      },
      "execution_count": 37,
      "outputs": [
        {
          "output_type": "display_data",
          "data": {
            "text/plain": [
              "<Figure size 640x480 with 1 Axes>"
            ],
            "image/png": "[encoded data removed]"
          },
          "metadata": {}
        }
      ]
    },
    {
      "cell_type": "markdown",
      "source": [
        "![400px-New_York_City_District_Map.svg.png](data:image/png;base64,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)"
      ],
      "metadata": {
        "id": "KiLFmLEar6pz"
      }
    },
    {
      "cell_type": "markdown",
      "source": [
        "##### 1. Reason for this specific chart"
      ],
      "metadata": {
        "id": "QHF8YVU7Yuh3"
      }
    },
    {
      "cell_type": "markdown",
      "source": [
        "A scatter plot is a type of graph that is used to display the relationship between two variables. It is useful when you want to visualize how the values present in the two columns are related."
      ],
      "metadata": {
        "id": "dcxuIMRPYuh3"
      }
    },
    {
      "cell_type": "markdown",
      "source": [
        "##### 2. The insight(s) found from the chart"
      ],
      "metadata": {
        "id": "GwzvFGzlYuh3"
      }
    },
    {
      "cell_type": "markdown",
      "source": [
        "It has already been seen earlier that the neighbourhood_group Manhattan has highest number of properties listed. Now from the above scatter plot we can also see that the Manhattan has the highest density of properties."
      ],
      "metadata": {
        "id": "uyqkiB8YYuh3"
      }
    },
    {
      "cell_type": "markdown",
      "source": [
        "##### 3. Business impact  "
      ],
      "metadata": {
        "id": "qYpmQ266Yuh3"
      }
    },
    {
      "cell_type": "markdown",
      "source": [
        "Manhattan has a high concentration of properties in close proximity to each other, indicating that this neighborhood group is preferred by customers. The high density of properties fosters healthy competition among hosts, which likely leads to reasonable pricing and an overall positive stay experience for customers. This creates a pleasant customer experience on Airbnb, leading to higher customer retention."
      ],
      "metadata": {
        "id": "_WtzZ_hCYuh4"
      }
    },
    {
      "cell_type": "markdown",
      "source": [
        "#### Chart - 6"
      ],
      "metadata": {
        "id": "OH-pJp9IphqM"
      }
    },
    {
      "cell_type": "code",
      "source": [
        "# room_type available\n",
        "\n",
        "airbnb['room_type'].value_counts()"
      ],
      "metadata": {
        "id": "htd37cazsW_B",
        "outputId": "f757e456-1f93-4056-a3b9-e649bd25eb8d",
        "colab": {
          "base_uri": "https://localhost:8080/"
        }
      },
      "execution_count": 38,
      "outputs": [
        {
          "output_type": "execute_result",
          "data": {
            "text/plain": [
              "Entire home/apt    25391\n",
              "Private room       22299\n",
              "Shared room         1157\n",
              "Name: room_type, dtype: int64"
            ]
          },
          "metadata": {},
          "execution_count": 38
        }
      ]
    },
    {
      "cell_type": "code",
      "source": [
        "# Chart - 6 visualization code\n",
        "\n",
        "plt.figure(figsize=(5,5))\n",
        "plt.pie(list(airbnb['room_type'].value_counts()),labels=list(airbnb['room_type'].value_counts().index),autopct='%1.1f%%',explode = [0.05, 0.05, 0.05])\n",
        "plt.show()"
      ],
      "metadata": {
        "id": "kuRf4wtuphqN",
        "outputId": "2ea423cf-afba-4f78-9fb0-15405a7ebbd4",
        "colab": {
          "base_uri": "https://localhost:8080/",
          "height": 422
        }
      },
      "execution_count": 39,
      "outputs": [
        {
          "output_type": "display_data",
          "data": {
            "text/plain": [
              "<Figure size 500x500 with 1 Axes>"
            ],
            "image/png": "[encoded data removed]"
          },
          "metadata": {}
        }
      ]
    },
    {
      "cell_type": "markdown",
      "source": [
        "##### 1. Reason for this specific chart"
      ],
      "metadata": {
        "id": "bbFf2-_FphqN"
      }
    },
    {
      "cell_type": "markdown",
      "source": [
        "A pie chart is a type of graph that is used to display the proportion or percentage of each category in a data set. It is useful when you want to visualize how different categories contribute to a whole."
      ],
      "metadata": {
        "id": "loh7H2nzphqN"
      }
    },
    {
      "cell_type": "markdown",
      "source": [
        "##### 2. The insight(s) found from the chart"
      ],
      "metadata": {
        "id": "_ouA3fa0phqN"
      }
    },
    {
      "cell_type": "markdown",
      "source": [
        "It can be seen that the Entire home/apt is most preferred type of room by customers followed by Private room, and Shared room."
      ],
      "metadata": {
        "id": "VECbqPI7phqN"
      }
    },
    {
      "cell_type": "markdown",
      "source": [
        "##### 3. Business impact"
      ],
      "metadata": {
        "id": "Seke61FWphqN"
      }
    },
    {
      "cell_type": "markdown",
      "source": [
        "Expanding the number of listings on Airbnb with room types such as Entire home/apt and Private room can attract more customers, resulting in increased profits for the company. By increasing the availability of these popular room types, Airbnb can cater to the preferences of a wider range of customers and capture a larger share of the market."
      ],
      "metadata": {
        "id": "DW4_bGpfphqN"
      }
    },
    {
      "cell_type": "markdown",
      "source": [
        "#### Chart - 7"
      ],
      "metadata": {
        "id": "PIIx-8_IphqN"
      }
    },
    {
      "cell_type": "code",
      "source": [
        "# Price range of listed properties\n",
        "\n",
        "airbnb['price'].sort_values(ascending= False)"
      ],
      "metadata": {
        "id": "nhIOGuK8szqj",
        "outputId": "1afe10e2-1ea0-4325-c8b6-1c0a3006ab0b",
        "colab": {
          "base_uri": "https://localhost:8080/"
        }
      },
      "execution_count": 40,
      "outputs": [
        {
          "output_type": "execute_result",
          "data": {
            "text/plain": [
              "9151     10000\n",
              "17692    10000\n",
              "29238    10000\n",
              "12342     9999\n",
              "6530      9999\n",
              "         ...  \n",
              "22835       10\n",
              "22261       10\n",
              "33225       10\n",
              "31407       10\n",
              "27972       10\n",
              "Name: price, Length: 48847, dtype: int64"
            ]
          },
          "metadata": {},
          "execution_count": 40
        }
      ]
    },
    {
      "cell_type": "markdown",
      "source": [
        "This shows that price varies from a maximum value of 10,000 dollars to 10 dollars. This shows that there are very cheap properties and also very costly properties."
      ],
      "metadata": {
        "id": "CxDrCZeSs3pV"
      }
    },
    {
      "cell_type": "code",
      "source": [
        "# Categorizing properties based on price\n",
        "\n",
        "# creating a function to categorize properties based on their price\n",
        "\n",
        "def categorize_price(price):\n",
        "    if price < 50:\n",
        "        return 'Low'\n",
        "    elif price >= 50 and price < 2000:\n",
        "        return 'Medium'\n",
        "    else:\n",
        "        return 'High'\n",
        "\n",
        "# applying the function to the 'price' column of the 'airbnb' DataFrame\n",
        "airbnb['price_category'] = airbnb['price'].apply(categorize_price)"
      ],
      "metadata": {
        "id": "LMEy-RsLs6YW"
      },
      "execution_count": 41,
      "outputs": []
    },
    {
      "cell_type": "code",
      "source": [
        "price_category = airbnb.groupby('price_category', as_index = False)['id'].count().rename(columns={'id':'Count'}).sort_values('Count', ascending = False)\n",
        "price_category"
      ],
      "metadata": {
        "id": "SdrdZ7ITs9On",
        "outputId": "10e5b5ee-eb2e-4dd1-921b-99ab0460c16e",
        "colab": {
          "base_uri": "https://localhost:8080/",
          "height": 143
        }
      },
      "execution_count": 42,
      "outputs": [
        {
          "output_type": "execute_result",
          "data": {
            "text/plain": [
              "  price_category  Count\n",
              "2         Medium  43726\n",
              "1            Low   5011\n",
              "0           High    110"
            ],
            "text/html": [
              "\n",
              "  <div id=\"df-26d3e073-d230-432d-bbfb-5aa6c0010913\">\n",
              "    <div class=\"colab-df-container\">\n",
              "      <div>\n",
              "<style scoped>\n",
              "    .dataframe tbody tr th:only-of-type {\n",
              "        vertical-align: middle;\n",
              "    }\n",
              "\n",
              "    .dataframe tbody tr th {\n",
              "        vertical-align: top;\n",
              "    }\n",
              "\n",
              "    .dataframe thead th {\n",
              "        text-align: right;\n",
              "    }\n",
              "</style>\n",
              "<table border=\"1\" class=\"dataframe\">\n",
              "  <thead>\n",
              "    <tr style=\"text-align: right;\">\n",
              "      <th></th>\n",
              "      <th>price_category</th>\n",
              "      <th>Count</th>\n",
              "    </tr>\n",
              "  </thead>\n",
              "  <tbody>\n",
              "    <tr>\n",
              "      <th>2</th>\n",
              "      <td>Medium</td>\n",
              "      <td>43726</td>\n",
              "    </tr>\n",
              "    <tr>\n",
              "      <th>1</th>\n",
              "      <td>Low</td>\n",
              "      <td>5011</td>\n",
              "    </tr>\n",
              "    <tr>\n",
              "      <th>0</th>\n",
              "      <td>High</td>\n",
              "      <td>110</td>\n",
              "    </tr>\n",
              "  </tbody>\n",
              "</table>\n",
              "</div>\n",
              "      <button class=\"colab-df-convert\" onclick=\"convertToInteractive('df-26d3e073-d230-432d-bbfb-5aa6c0010913')\"\n",
              "              title=\"Convert this dataframe to an interactive table.\"\n",
              "              style=\"display:none;\">\n",
              "        \n",
              "  <svg xmlns=\"http://www.w3.org/2000/svg\" height=\"24px\"viewBox=\"0 0 24 24\"\n",
              "       width=\"24px\">\n",
              "    <path d=\"M0 0h24v24H0V0z\" fill=\"none\"/>\n",
              "    <path d=\"M18.56 5.44l.94 2.06.94-2.06 2.06-.94-2.06-.94-.94-2.06-.94 2.06-2.06.94zm-11 1L8.5 8.5l.94-2.06 2.06-.94-2.06-.94L8.5 2.5l-.94 2.06-2.06.94zm10 10l.94 2.06.94-2.06 2.06-.94-2.06-.94-.94-2.06-.94 2.06-2.06.94z\"/><path d=\"M17.41 7.96l-1.37-1.37c-.4-.4-.92-.59-1.43-.59-.52 0-1.04.2-1.43.59L10.3 9.45l-7.72 7.72c-.78.78-.78 2.05 0 2.83L4 21.41c.39.39.9.59 1.41.59.51 0 1.02-.2 1.41-.59l7.78-7.78 2.81-2.81c.8-.78.8-2.07 0-2.86zM5.41 20L4 18.59l7.72-7.72 1.47 1.35L5.41 20z\"/>\n",
              "  </svg>\n",
              "      </button>\n",
              "      \n",
              "  <style>\n",
              "    .colab-df-container {\n",
              "      display:flex;\n",
              "      flex-wrap:wrap;\n",
              "      gap: 12px;\n",
              "    }\n",
              "\n",
              "    .colab-df-convert {\n",
              "      background-color: #E8F0FE;\n",
              "      border: none;\n",
              "      border-radius: 50%;\n",
              "      cursor: pointer;\n",
              "      display: none;\n",
              "      fill: #1967D2;\n",
              "      height: 32px;\n",
              "      padding: 0 0 0 0;\n",
              "      width: 32px;\n",
              "    }\n",
              "\n",
              "    .colab-df-convert:hover {\n",
              "      background-color: #E2EBFA;\n",
              "      box-shadow: 0px 1px 2px rgba(60, 64, 67, 0.3), 0px 1px 3px 1px rgba(60, 64, 67, 0.15);\n",
              "      fill: #174EA6;\n",
              "    }\n",
              "\n",
              "    [theme=dark] .colab-df-convert {\n",
              "      background-color: #3B4455;\n",
              "      fill: #D2E3FC;\n",
              "    }\n",
              "\n",
              "    [theme=dark] .colab-df-convert:hover {\n",
              "      background-color: #434B5C;\n",
              "      box-shadow: 0px 1px 3px 1px rgba(0, 0, 0, 0.15);\n",
              "      filter: drop-shadow(0px 1px 2px rgba(0, 0, 0, 0.3));\n",
              "      fill: #FFFFFF;\n",
              "    }\n",
              "  </style>\n",
              "\n",
              "      <script>\n",
              "        const buttonEl =\n",
              "          document.querySelector('#df-26d3e073-d230-432d-bbfb-5aa6c0010913 button.colab-df-convert');\n",
              "        buttonEl.style.display =\n",
              "          google.colab.kernel.accessAllowed ? 'block' : 'none';\n",
              "\n",
              "        async function convertToInteractive(key) {\n",
              "          const element = document.querySelector('#df-26d3e073-d230-432d-bbfb-5aa6c0010913');\n",
              "          const dataTable =\n",
              "            await google.colab.kernel.invokeFunction('convertToInteractive',\n",
              "                                                     [key], {});\n",
              "          if (!dataTable) return;\n",
              "\n",
              "          const docLinkHtml = 'Like what you see? Visit the ' +\n",
              "            '<a target=\"_blank\" href=https://colab.research.google.com/notebooks/data_table.ipynb>data table notebook</a>'\n",
              "            + ' to learn more about interactive tables.';\n",
              "          element.innerHTML = '';\n",
              "          dataTable['output_type'] = 'display_data';\n",
              "          await google.colab.output.renderOutput(dataTable, element);\n",
              "          const docLink = document.createElement('div');\n",
              "          docLink.innerHTML = docLinkHtml;\n",
              "          element.appendChild(docLink);\n",
              "        }\n",
              "      </script>\n",
              "    </div>\n",
              "  </div>\n",
              "  "
            ]
          },
          "metadata": {},
          "execution_count": 42
        }
      ]
    },
    {
      "cell_type": "code",
      "source": [
        "# Chart - 7 visualization code\n",
        "\n",
        "ax = sns.countplot(data = airbnb, x = 'price_category')\n",
        "\n",
        "for bars in ax.containers:\n",
        "    ax.bar_label(bars)\n",
        "\n",
        "# setting plot title and labels\n",
        "plt.title('Count of Property based on Price category', fontsize = 15)\n",
        "plt.xlabel('Price category', fontsize = 14)\n",
        "plt.ylabel('Count of Properties', fontsize = 14)\n",
        "\n",
        "# changing fontsize of tick labels\n",
        "plt.tick_params(axis='x', labelsize=10)\n",
        "plt.tick_params(axis='y', labelsize=10)\n",
        "\n",
        "# display plot\n",
        "plt.show()"
      ],
      "metadata": {
        "id": "lqAIGUfyphqO",
        "outputId": "71224add-eaf0-4bfb-9ef2-e350857b3760",
        "colab": {
          "base_uri": "https://localhost:8080/",
          "height": 479
        }
      },
      "execution_count": 43,
      "outputs": [
        {
          "output_type": "display_data",
          "data": {
            "text/plain": [
              "<Figure size 640x480 with 1 Axes>"
            ],
            "image/png": "[encoded data removed]"
          },
          "metadata": {}
        }
      ]
    },
    {
      "cell_type": "markdown",
      "source": [
        "##### 1. Reason for this specific chart"
      ],
      "metadata": {
        "id": "t27r6nlMphqO"
      }
    },
    {
      "cell_type": "markdown",
      "source": [
        "Countplots are particularly useful when you want to understand how many times each category appears in a dataset. "
      ],
      "metadata": {
        "id": "iv6ro40sphqO"
      }
    },
    {
      "cell_type": "markdown",
      "source": [
        "##### 2. The insight(s) found from the chart"
      ],
      "metadata": {
        "id": "r2jJGEOYphqO"
      }
    },
    {
      "cell_type": "markdown",
      "source": [
        "Most number of properties fall in the category of medium price property, followed by few properties in low price category and very few properties are in high price category."
      ],
      "metadata": {
        "id": "Po6ZPi4hphqO"
      }
    },
    {
      "cell_type": "markdown",
      "source": [
        "##### 3. Business impact."
      ],
      "metadata": {
        "id": "b0JNsNcRphqO"
      }
    },
    {
      "cell_type": "markdown",
      "source": [
        "This price_category column can be further used to understand the customer's preference of price. Also relation between the neighbourhood_group and price can be easily understood. This analysis is done in the later section."
      ],
      "metadata": {
        "id": "xvSq8iUTphqO"
      }
    },
    {
      "cell_type": "markdown",
      "source": [
        "#### Chart - 8"
      ],
      "metadata": {
        "id": "BZR9WyysphqO"
      }
    },
    {
      "cell_type": "code",
      "source": [
        "# Top 5 minimum_nights duration for which the properties are availble in NYC \n",
        "\n",
        "airbnb['minimum_nights'].value_counts().head()"
      ],
      "metadata": {
        "id": "9ndNB_2ntZra",
        "outputId": "c806b5a0-6978-495d-9153-3e21fa0ffa4d",
        "colab": {
          "base_uri": "https://localhost:8080/"
        }
      },
      "execution_count": 44,
      "outputs": [
        {
          "output_type": "execute_result",
          "data": {
            "text/plain": [
              "1     12697\n",
              "2     11691\n",
              "3      7995\n",
              "30     3757\n",
              "4      3296\n",
              "Name: minimum_nights, dtype: int64"
            ]
          },
          "metadata": {},
          "execution_count": 44
        }
      ]
    },
    {
      "cell_type": "code",
      "source": [
        "# Chart - 8 visualization code\n",
        "\n",
        "# creating the barplot with Seaborn\n",
        "sns.barplot(x= airbnb['minimum_nights'].value_counts().head().index, \n",
        "            y= airbnb['minimum_nights'].value_counts().head().values, \n",
        "            palette= 'Set2',\n",
        "            width = 0.5\n",
        "            )\n",
        "\n",
        "\n",
        "# setting plot title and labels\n",
        "plt.title('Top 5 minimum_nights duration for booking with their number of listings', fontsize = 15)\n",
        "plt.xlabel('minimum_nights', fontsize = 14)\n",
        "plt.ylabel('Number of Listings', fontsize = 14)\n",
        "\n",
        "# changing fontsize of tick labels\n",
        "plt.tick_params(axis='x', labelsize=10)\n",
        "plt.tick_params(axis='y', labelsize=10)\n",
        "\n",
        "# display plot\n",
        "plt.show()"
      ],
      "metadata": {
        "id": "TdPTWpAVphqO",
        "outputId": "eb70bec8-ad10-4375-aa54-f568fb9156a4",
        "colab": {
          "base_uri": "https://localhost:8080/",
          "height": 480
        }
      },
      "execution_count": 45,
      "outputs": [
        {
          "output_type": "display_data",
          "data": {
            "text/plain": [
              "<Figure size 640x480 with 1 Axes>"
            ],
            "image/png": "[encoded data removed]"
          },
          "metadata": {}
        }
      ]
    },
    {
      "cell_type": "markdown",
      "source": [
        "##### 1. Reason for this specific chart"
      ],
      "metadata": {
        "id": "jj7wYXLtphqO"
      }
    },
    {
      "cell_type": "markdown",
      "source": [
        "Bar chart helps in easy visualization of the data."
      ],
      "metadata": {
        "id": "Ob8u6rCTphqO"
      }
    },
    {
      "cell_type": "markdown",
      "source": [
        "##### 2. The insight(s) found from the chart"
      ],
      "metadata": {
        "id": "eZrbJ2SmphqO"
      }
    },
    {
      "cell_type": "markdown",
      "source": [
        "The minimum nights duration for which the property must be booked for the available properties is highest for 1 followed by 2, 3, 30, and 4."
      ],
      "metadata": {
        "id": "mZtgC_hjphqO"
      }
    },
    {
      "cell_type": "markdown",
      "source": [
        "##### 3. Business impact\n"
      ],
      "metadata": {
        "id": "rFu4xreNphqO"
      }
    },
    {
      "cell_type": "markdown",
      "source": [
        "Visitors to NYC typically stay in properties that have a minimum stay duration of 1, 2, 3, or 4 nights. However, there are also a significant number of properties with a minimum stay of 30 days, indicating that many people are using Airbnb properties as their primary residences and paying rent on a monthly basis. This suggests that Airbnb is not just catering to short-term tourists but also meeting the needs of longer-term renters in the city."
      ],
      "metadata": {
        "id": "ey_0qi68phqO"
      }
    },
    {
      "cell_type": "markdown",
      "source": [
        "### Now checking number_of_reviews column for some insights"
      ],
      "metadata": {
        "id": "K9E_QEKHtyWW"
      }
    },
    {
      "cell_type": "code",
      "source": [
        "# Top 5 number_of_reviews that have been recieved by a property \n",
        "\n",
        "airbnb['number_of_reviews'].value_counts().head()"
      ],
      "metadata": {
        "id": "di_8MYict0xC",
        "outputId": "4dcfd1f9-8ef4-4b7b-f6c4-8f25924dfa5f",
        "colab": {
          "base_uri": "https://localhost:8080/"
        }
      },
      "execution_count": 46,
      "outputs": [
        {
          "output_type": "execute_result",
          "data": {
            "text/plain": [
              "0    10036\n",
              "1     5238\n",
              "2     3463\n",
              "3     2518\n",
              "4     1994\n",
              "Name: number_of_reviews, dtype: int64"
            ]
          },
          "metadata": {},
          "execution_count": 46
        }
      ]
    },
    {
      "cell_type": "code",
      "source": [
        "# Least 5 number_of_reviews that have been recieved by a property \n",
        "\n",
        "airbnb['number_of_reviews'].value_counts().tail()"
      ],
      "metadata": {
        "id": "flghKmhft3i4",
        "outputId": "406d3831-7dfd-4f9b-9f39-3ee61629fcf9",
        "colab": {
          "base_uri": "https://localhost:8080/"
        }
      },
      "execution_count": 47,
      "outputs": [
        {
          "output_type": "execute_result",
          "data": {
            "text/plain": [
              "313    1\n",
              "540    1\n",
              "480    1\n",
              "326    1\n",
              "341    1\n",
              "Name: number_of_reviews, dtype: int64"
            ]
          },
          "metadata": {},
          "execution_count": 47
        }
      ]
    },
    {
      "cell_type": "markdown",
      "source": [
        "This shows that there are very few properties which have recieved large number of reviews. A lot of properties have recieved very few reviews as low as 1. <br>\n",
        "\n",
        "Their can two possible reasons for this:-<br>\n",
        "\n",
        "1.   The property host is not asking for the reviews from the customer.\n",
        "2.   Their is some issue that the customers might be facing while trying to review the property but are not able to do so on the airbnb app and site.\n",
        "\n",
        "Whatever the issue is should be dealt on priority as Airbnb doesn't know how is the customer's experience in a lot of their properties and if the customer experience is bad at these low number of reviews properties it can lead to losses for Airbnb.\n",
        "\n"
      ],
      "metadata": {
        "id": "CiAqlKzSt8Pq"
      }
    },
    {
      "cell_type": "markdown",
      "source": [
        "#### Chart - 9"
      ],
      "metadata": {
        "id": "YJ55k-q6phqO"
      }
    },
    {
      "cell_type": "code",
      "source": [
        "# Creating a new column named last_review_year from the last_review_column \n",
        "\n",
        "airbnb['last_review_year'] = airbnb['last_review'].dt.year"
      ],
      "metadata": {
        "id": "YLY2CLLruAZE"
      },
      "execution_count": 48,
      "outputs": []
    },
    {
      "cell_type": "code",
      "source": [
        "# Number of unique years for last_review_year\n",
        "\n",
        "airbnb['last_review_year'].nunique()"
      ],
      "metadata": {
        "id": "OJ7LM4IKuCzi",
        "outputId": "379a5916-af69-4c08-8cc6-c4f6644e21e0",
        "colab": {
          "base_uri": "https://localhost:8080/"
        }
      },
      "execution_count": 49,
      "outputs": [
        {
          "output_type": "execute_result",
          "data": {
            "text/plain": [
              "9"
            ]
          },
          "metadata": {},
          "execution_count": 49
        }
      ]
    },
    {
      "cell_type": "code",
      "source": [
        "# Chart - 9 visualization code"
      ],
      "metadata": {
        "id": "B2aS4O1ophqO"
      },
      "execution_count": null,
      "outputs": []
    },
    {
      "cell_type": "code",
      "source": [
        "# Years for which the last review is available for a property\n",
        "\n",
        "ax = sns.countplot(data= airbnb, x= 'last_review_year')\n",
        "\n",
        "for bars in ax.containers:\n",
        "  ax.bar_label(bars)\n",
        "\n",
        "# setting plot title and labels\n",
        "plt.title('Count of Property based on last review year', fontsize = 15)\n",
        "plt.xlabel('Last review year', fontsize = 14)\n",
        "plt.ylabel('Count of Properties', fontsize = 14)\n",
        "\n",
        "# changing fontsize of tick labels\n",
        "plt.tick_params(axis='x', labelsize=10)\n",
        "plt.tick_params(axis='y', labelsize=10)\n",
        "\n",
        "# display plot\n",
        "plt.show()"
      ],
      "metadata": {
        "id": "WJzkyXn8uFpr",
        "outputId": "5f72ebb0-6f52-4a23-9ecf-c388d168adfe",
        "colab": {
          "base_uri": "https://localhost:8080/",
          "height": 479
        }
      },
      "execution_count": 50,
      "outputs": [
        {
          "output_type": "display_data",
          "data": {
            "text/plain": [
              "<Figure size 640x480 with 1 Axes>"
            ],
            "image/png": "[encoded data removed]"
          },
          "metadata": {}
        }
      ]
    },
    {
      "cell_type": "markdown",
      "source": [
        "##### 1. Reason for this specific chart"
      ],
      "metadata": {
        "id": "gCFgpxoyphqP"
      }
    },
    {
      "cell_type": "markdown",
      "source": [
        "Countplots are particularly useful when you want to understand how many times each category appears in a dataset. "
      ],
      "metadata": {
        "id": "TVxDimi2phqP"
      }
    },
    {
      "cell_type": "markdown",
      "source": [
        "##### 2. The insight(s) found from the chart"
      ],
      "metadata": {
        "id": "OVtJsKN_phqQ"
      }
    },
    {
      "cell_type": "markdown",
      "source": [
        "There are many properties which have not been reviewed from 2011 to 2017. Most of the properties have been reviewed in year 2019."
      ],
      "metadata": {
        "id": "ngGi97qjphqQ"
      }
    },
    {
      "cell_type": "markdown",
      "source": [
        "##### 3. Business impact "
      ],
      "metadata": {
        "id": "lssrdh5qphqQ"
      }
    },
    {
      "cell_type": "markdown",
      "source": [
        "Properties that haven't received any reviews from 2011 to 2017 are a cause for concern as they may no longer be functional but are still listed on Airbnb. It's important to review these properties to confirm their current status and determine whether they should be removed from the platform. By verifying the current status of these properties, Airbnb can ensure that its listings remain accurate and up-to-date, which is essential for providing a high-quality customer experience."
      ],
      "metadata": {
        "id": "tBpY5ekJphqQ"
      }
    },
    {
      "cell_type": "markdown",
      "source": [
        "#### Chart - 10"
      ],
      "metadata": {
        "id": "U2RJ9gkRphqQ"
      }
    },
    {
      "cell_type": "code",
      "source": [
        "# Top 5 Number of days for which the properties are available\n",
        "\n",
        "airbnb['availability_365'].value_counts().head()"
      ],
      "metadata": {
        "id": "A05HXH-7ucZk",
        "outputId": "7800e993-0e23-4900-dfec-0ce6b2d456f2",
        "colab": {
          "base_uri": "https://localhost:8080/"
        }
      },
      "execution_count": 51,
      "outputs": [
        {
          "output_type": "execute_result",
          "data": {
            "text/plain": [
              "0      17505\n",
              "365     1294\n",
              "364      491\n",
              "1        408\n",
              "89       361\n",
              "Name: availability_365, dtype: int64"
            ]
          },
          "metadata": {},
          "execution_count": 51
        }
      ]
    },
    {
      "cell_type": "code",
      "source": [
        "# Calculating median\n",
        "\n",
        "airbnb['availability_365'].median()"
      ],
      "metadata": {
        "id": "8sxAH36juemv",
        "outputId": "5c9fb973-37dc-4a7e-de12-40aa5092a416",
        "colab": {
          "base_uri": "https://localhost:8080/"
        }
      },
      "execution_count": 52,
      "outputs": [
        {
          "output_type": "execute_result",
          "data": {
            "text/plain": [
              "45.0"
            ]
          },
          "metadata": {},
          "execution_count": 52
        }
      ]
    },
    {
      "cell_type": "code",
      "source": [
        "# Box plot to see the variation of values in column availability_365\n",
        "\n",
        "plt.figure(figsize = (5,5))\n",
        "sns.boxplot(data= airbnb, y= 'availability_365' )\n",
        "plt.show()"
      ],
      "metadata": {
        "id": "EyLkDg-NuhFI",
        "outputId": "e135f09e-641f-477b-c5b2-a9fe43d44529",
        "colab": {
          "base_uri": "https://localhost:8080/",
          "height": 426
        }
      },
      "execution_count": 53,
      "outputs": [
        {
          "output_type": "display_data",
          "data": {
            "text/plain": [
              "<Figure size 500x500 with 1 Axes>"
            ],
            "image/png": "[encoded data removed]"
          },
          "metadata": {}
        }
      ]
    },
    {
      "cell_type": "code",
      "source": [
        "# Checking whether the properties which are having 0 as availability days are operational or not\n",
        "\n",
        "availability_0_check = airbnb.loc[airbnb['availability_365'] == 0,['availability_365','last_review']]\n",
        "availability_0_check"
      ],
      "metadata": {
        "id": "bmv6-Hk5ujj0",
        "outputId": "a2658f3f-39bd-4414-bc5b-89701249200a",
        "colab": {
          "base_uri": "https://localhost:8080/",
          "height": 424
        }
      },
      "execution_count": 54,
      "outputs": [
        {
          "output_type": "execute_result",
          "data": {
            "text/plain": [
              "       availability_365 last_review\n",
              "4                     0  2018-11-19\n",
              "6                     0  2017-10-05\n",
              "8                     0  2017-07-21\n",
              "14                    0  2018-10-31\n",
              "20                    0  2011-12-28\n",
              "...                 ...         ...\n",
              "48550                 0  2019-07-08\n",
              "48731                 0  2019-07-08\n",
              "48756                 0  2019-07-08\n",
              "48760                 0  2019-07-08\n",
              "48779                 0  2019-07-08\n",
              "\n",
              "[17505 rows x 2 columns]"
            ],
            "text/html": [
              "\n",
              "  <div id=\"df-fdce55f9-0db9-4f6f-bf5e-dc2d111ceb22\">\n",
              "    <div class=\"colab-df-container\">\n",
              "      <div>\n",
              "<style scoped>\n",
              "    .dataframe tbody tr th:only-of-type {\n",
              "        vertical-align: middle;\n",
              "    }\n",
              "\n",
              "    .dataframe tbody tr th {\n",
              "        vertical-align: top;\n",
              "    }\n",
              "\n",
              "    .dataframe thead th {\n",
              "        text-align: right;\n",
              "    }\n",
              "</style>\n",
              "<table border=\"1\" class=\"dataframe\">\n",
              "  <thead>\n",
              "    <tr style=\"text-align: right;\">\n",
              "      <th></th>\n",
              "      <th>availability_365</th>\n",
              "      <th>last_review</th>\n",
              "    </tr>\n",
              "  </thead>\n",
              "  <tbody>\n",
              "    <tr>\n",
              "      <th>4</th>\n",
              "      <td>0</td>\n",
              "      <td>2018-11-19</td>\n",
              "    </tr>\n",
              "    <tr>\n",
              "      <th>6</th>\n",
              "      <td>0</td>\n",
              "      <td>2017-10-05</td>\n",
              "    </tr>\n",
              "    <tr>\n",
              "      <th>8</th>\n",
              "      <td>0</td>\n",
              "      <td>2017-07-21</td>\n",
              "    </tr>\n",
              "    <tr>\n",
              "      <th>14</th>\n",
              "      <td>0</td>\n",
              "      <td>2018-10-31</td>\n",
              "    </tr>\n",
              "    <tr>\n",
              "      <th>20</th>\n",
              "      <td>0</td>\n",
              "      <td>2011-12-28</td>\n",
              "    </tr>\n",
              "    <tr>\n",
              "      <th>...</th>\n",
              "      <td>...</td>\n",
              "      <td>...</td>\n",
              "    </tr>\n",
              "    <tr>\n",
              "      <th>48550</th>\n",
              "      <td>0</td>\n",
              "      <td>2019-07-08</td>\n",
              "    </tr>\n",
              "    <tr>\n",
              "      <th>48731</th>\n",
              "      <td>0</td>\n",
              "      <td>2019-07-08</td>\n",
              "    </tr>\n",
              "    <tr>\n",
              "      <th>48756</th>\n",
              "      <td>0</td>\n",
              "      <td>2019-07-08</td>\n",
              "    </tr>\n",
              "    <tr>\n",
              "      <th>48760</th>\n",
              "      <td>0</td>\n",
              "      <td>2019-07-08</td>\n",
              "    </tr>\n",
              "    <tr>\n",
              "      <th>48779</th>\n",
              "      <td>0</td>\n",
              "      <td>2019-07-08</td>\n",
              "    </tr>\n",
              "  </tbody>\n",
              "</table>\n",
              "<p>17505 rows × 2 columns</p>\n",
              "</div>\n",
              "      <button class=\"colab-df-convert\" onclick=\"convertToInteractive('df-fdce55f9-0db9-4f6f-bf5e-dc2d111ceb22')\"\n",
              "              title=\"Convert this dataframe to an interactive table.\"\n",
              "              style=\"display:none;\">\n",
              "        \n",
              "  <svg xmlns=\"http://www.w3.org/2000/svg\" height=\"24px\"viewBox=\"0 0 24 24\"\n",
              "       width=\"24px\">\n",
              "    <path d=\"M0 0h24v24H0V0z\" fill=\"none\"/>\n",
              "    <path d=\"M18.56 5.44l.94 2.06.94-2.06 2.06-.94-2.06-.94-.94-2.06-.94 2.06-2.06.94zm-11 1L8.5 8.5l.94-2.06 2.06-.94-2.06-.94L8.5 2.5l-.94 2.06-2.06.94zm10 10l.94 2.06.94-2.06 2.06-.94-2.06-.94-.94-2.06-.94 2.06-2.06.94z\"/><path d=\"M17.41 7.96l-1.37-1.37c-.4-.4-.92-.59-1.43-.59-.52 0-1.04.2-1.43.59L10.3 9.45l-7.72 7.72c-.78.78-.78 2.05 0 2.83L4 21.41c.39.39.9.59 1.41.59.51 0 1.02-.2 1.41-.59l7.78-7.78 2.81-2.81c.8-.78.8-2.07 0-2.86zM5.41 20L4 18.59l7.72-7.72 1.47 1.35L5.41 20z\"/>\n",
              "  </svg>\n",
              "      </button>\n",
              "      \n",
              "  <style>\n",
              "    .colab-df-container {\n",
              "      display:flex;\n",
              "      flex-wrap:wrap;\n",
              "      gap: 12px;\n",
              "    }\n",
              "\n",
              "    .colab-df-convert {\n",
              "      background-color: #E8F0FE;\n",
              "      border: none;\n",
              "      border-radius: 50%;\n",
              "      cursor: pointer;\n",
              "      display: none;\n",
              "      fill: #1967D2;\n",
              "      height: 32px;\n",
              "      padding: 0 0 0 0;\n",
              "      width: 32px;\n",
              "    }\n",
              "\n",
              "    .colab-df-convert:hover {\n",
              "      background-color: #E2EBFA;\n",
              "      box-shadow: 0px 1px 2px rgba(60, 64, 67, 0.3), 0px 1px 3px 1px rgba(60, 64, 67, 0.15);\n",
              "      fill: #174EA6;\n",
              "    }\n",
              "\n",
              "    [theme=dark] .colab-df-convert {\n",
              "      background-color: #3B4455;\n",
              "      fill: #D2E3FC;\n",
              "    }\n",
              "\n",
              "    [theme=dark] .colab-df-convert:hover {\n",
              "      background-color: #434B5C;\n",
              "      box-shadow: 0px 1px 3px 1px rgba(0, 0, 0, 0.15);\n",
              "      filter: drop-shadow(0px 1px 2px rgba(0, 0, 0, 0.3));\n",
              "      fill: #FFFFFF;\n",
              "    }\n",
              "  </style>\n",
              "\n",
              "      <script>\n",
              "        const buttonEl =\n",
              "          document.querySelector('#df-fdce55f9-0db9-4f6f-bf5e-dc2d111ceb22 button.colab-df-convert');\n",
              "        buttonEl.style.display =\n",
              "          google.colab.kernel.accessAllowed ? 'block' : 'none';\n",
              "\n",
              "        async function convertToInteractive(key) {\n",
              "          const element = document.querySelector('#df-fdce55f9-0db9-4f6f-bf5e-dc2d111ceb22');\n",
              "          const dataTable =\n",
              "            await google.colab.kernel.invokeFunction('convertToInteractive',\n",
              "                                                     [key], {});\n",
              "          if (!dataTable) return;\n",
              "\n",
              "          const docLinkHtml = 'Like what you see? Visit the ' +\n",
              "            '<a target=\"_blank\" href=https://colab.research.google.com/notebooks/data_table.ipynb>data table notebook</a>'\n",
              "            + ' to learn more about interactive tables.';\n",
              "          element.innerHTML = '';\n",
              "          dataTable['output_type'] = 'display_data';\n",
              "          await google.colab.output.renderOutput(dataTable, element);\n",
              "          const docLink = document.createElement('div');\n",
              "          docLink.innerHTML = docLinkHtml;\n",
              "          element.appendChild(docLink);\n",
              "        }\n",
              "      </script>\n",
              "    </div>\n",
              "  </div>\n",
              "  "
            ]
          },
          "metadata": {},
          "execution_count": 54
        }
      ]
    },
    {
      "cell_type": "markdown",
      "source": [
        "The most properties are available for 0 days and they have a last review date. This makes no sense. This means these properties are operational. So replacing these 0 days with the median of the availability_365 column."
      ],
      "metadata": {
        "id": "cMmNT3ngum_M"
      }
    },
    {
      "cell_type": "code",
      "source": [
        "# removing rows containing 0 as the number of days available in a year for median of availability_365 column \n",
        "\n",
        "availability_0_removed = airbnb[airbnb['availability_365'] != 0]\n",
        "\n",
        "# Replacing 0 days with the median of the availability_365 column\n",
        "\n",
        "airbnb['availability_365'] = np.where(airbnb['availability_365'] == 0, availability_0_removed['availability_365'].median(),airbnb['availability_365'] )"
      ],
      "metadata": {
        "id": "SZ3QkZsBupya"
      },
      "execution_count": 55,
      "outputs": []
    },
    {
      "cell_type": "code",
      "source": [
        "# Calculating median after removing 0 values from the availability_365 column\n",
        "\n",
        "airbnb['availability_365'].median()"
      ],
      "metadata": {
        "id": "RHIrdn-cusQw",
        "outputId": "3e69c454-e2ef-4b81-d0ee-9bd5f373553b",
        "colab": {
          "base_uri": "https://localhost:8080/"
        }
      },
      "execution_count": 56,
      "outputs": [
        {
          "output_type": "execute_result",
          "data": {
            "text/plain": [
              "167.0"
            ]
          },
          "metadata": {},
          "execution_count": 56
        }
      ]
    },
    {
      "cell_type": "code",
      "source": [
        "airbnb['availability_365'].value_counts().head()"
      ],
      "metadata": {
        "id": "jMjKjl0ouuiU",
        "outputId": "09008f6b-3d46-4c09-b754-6aac971e516a",
        "colab": {
          "base_uri": "https://localhost:8080/"
        }
      },
      "execution_count": 57,
      "outputs": [
        {
          "output_type": "execute_result",
          "data": {
            "text/plain": [
              "167.0    17569\n",
              "365.0     1294\n",
              "364.0      491\n",
              "1.0        408\n",
              "89.0       361\n",
              "Name: availability_365, dtype: int64"
            ]
          },
          "metadata": {},
          "execution_count": 57
        }
      ]
    },
    {
      "cell_type": "code",
      "source": [
        "# Chart - 10 visualization code\n",
        "\n",
        "# Box plot to see the variation of values in column availability_365 after replacing 0 values with median\n",
        "\n",
        "plt.figure(figsize = (5,5))\n",
        "sns.boxplot(data= airbnb, y= 'availability_365' )\n",
        "plt.show()"
      ],
      "metadata": {
        "id": "GM7a4YP4phqQ",
        "outputId": "aad1a664-27c1-41fd-b0c8-59fb427700be",
        "colab": {
          "base_uri": "https://localhost:8080/",
          "height": 426
        }
      },
      "execution_count": 58,
      "outputs": [
        {
          "output_type": "display_data",
          "data": {
            "text/plain": [
              "<Figure size 500x500 with 1 Axes>"
            ],
            "image/png": "[encoded data removed]"
          },
          "metadata": {}
        }
      ]
    },
    {
      "cell_type": "markdown",
      "source": [
        "##### 1. Reason for this specific chart"
      ],
      "metadata": {
        "id": "1M8mcRywphqQ"
      }
    },
    {
      "cell_type": "markdown",
      "source": [
        "A box plot, also known as a box-and-whisker plot, displays several key characteristics of a dataset, including the median, quartiles, and any outliers.Box plots are useful because they allow you to quickly visualize the spread and skewness of a dataset, as well as identify any outliers that may be present."
      ],
      "metadata": {
        "id": "8agQvks0phqQ"
      }
    },
    {
      "cell_type": "markdown",
      "source": [
        "##### 2. The insight(s) found from the chart"
      ],
      "metadata": {
        "id": "tgIPom80phqQ"
      }
    },
    {
      "cell_type": "markdown",
      "source": [
        "The first box plot shows that the data for availability_365 column is highly skewed. After the 0 values are removed from the availabity_365 column it can be easily seen that the median of the data has increased and the skewness of the data has also reduced. This means that the data of the availabity_365 column has been improved for further analysis and now the analysis done will be meaningful."
      ],
      "metadata": {
        "id": "Qp13pnNzphqQ"
      }
    },
    {
      "cell_type": "markdown",
      "source": [
        "#### Chart - 11"
      ],
      "metadata": {
        "id": "x-EpHcCOp1ci"
      }
    },
    {
      "cell_type": "code",
      "source": [
        "# Chart - 11 visualization code"
      ],
      "metadata": {
        "id": "mAQTIvtqp1cj"
      },
      "execution_count": null,
      "outputs": []
    },
    {
      "cell_type": "markdown",
      "source": [
        "##### 1. Why did you pick the specific chart?"
      ],
      "metadata": {
        "id": "X_VqEhTip1ck"
      }
    },
    {
      "cell_type": "markdown",
      "source": [
        "Answer Here."
      ],
      "metadata": {
        "id": "-vsMzt_np1ck"
      }
    },
    {
      "cell_type": "markdown",
      "source": [
        "##### 2. What is/are the insight(s) found from the chart?"
      ],
      "metadata": {
        "id": "8zGJKyg5p1ck"
      }
    },
    {
      "cell_type": "markdown",
      "source": [
        "Answer Here"
      ],
      "metadata": {
        "id": "ZYdMsrqVp1ck"
      }
    },
    {
      "cell_type": "markdown",
      "source": [
        "##### 3. Will the gained insights help creating a positive business impact? \n",
        "Are there any insights that lead to negative growth? Justify with specific reason."
      ],
      "metadata": {
        "id": "PVzmfK_Ep1ck"
      }
    },
    {
      "cell_type": "markdown",
      "source": [
        "Answer Here"
      ],
      "metadata": {
        "id": "druuKYZpp1ck"
      }
    },
    {
      "cell_type": "markdown",
      "source": [
        "#### Chart - 12"
      ],
      "metadata": {
        "id": "n3dbpmDWp1ck"
      }
    },
    {
      "cell_type": "code",
      "source": [
        "# Chart - 12 visualization code"
      ],
      "metadata": {
        "id": "bwevp1tKp1ck"
      },
      "execution_count": null,
      "outputs": []
    },
    {
      "cell_type": "markdown",
      "source": [
        "##### 1. Why did you pick the specific chart?"
      ],
      "metadata": {
        "id": "ylSl6qgtp1ck"
      }
    },
    {
      "cell_type": "markdown",
      "source": [
        "Answer Here."
      ],
      "metadata": {
        "id": "m2xqNkiQp1ck"
      }
    },
    {
      "cell_type": "markdown",
      "source": [
        "##### 2. What is/are the insight(s) found from the chart?"
      ],
      "metadata": {
        "id": "ZWILFDl5p1ck"
      }
    },
    {
      "cell_type": "markdown",
      "source": [
        "Answer Here"
      ],
      "metadata": {
        "id": "x-lUsV2mp1ck"
      }
    },
    {
      "cell_type": "markdown",
      "source": [
        "##### 3. Will the gained insights help creating a positive business impact? \n",
        "Are there any insights that lead to negative growth? Justify with specific reason."
      ],
      "metadata": {
        "id": "M7G43BXep1ck"
      }
    },
    {
      "cell_type": "markdown",
      "source": [
        "Answer Here"
      ],
      "metadata": {
        "id": "5wwDJXsLp1cl"
      }
    },
    {
      "cell_type": "markdown",
      "source": [
        "#### Chart - 13"
      ],
      "metadata": {
        "id": "Ag9LCva-p1cl"
      }
    },
    {
      "cell_type": "code",
      "source": [
        "# Chart - 13 visualization code"
      ],
      "metadata": {
        "id": "EUfxeq9-p1cl"
      },
      "execution_count": null,
      "outputs": []
    },
    {
      "cell_type": "markdown",
      "source": [
        "##### 1. Why did you pick the specific chart?"
      ],
      "metadata": {
        "id": "E6MkPsBcp1cl"
      }
    },
    {
      "cell_type": "markdown",
      "source": [
        "Answer Here."
      ],
      "metadata": {
        "id": "V22bRsFWp1cl"
      }
    },
    {
      "cell_type": "markdown",
      "source": [
        "##### 2. What is/are the insight(s) found from the chart?"
      ],
      "metadata": {
        "id": "2cELzS2fp1cl"
      }
    },
    {
      "cell_type": "markdown",
      "source": [
        "Answer Here"
      ],
      "metadata": {
        "id": "ozQPc2_Ip1cl"
      }
    },
    {
      "cell_type": "markdown",
      "source": [
        "##### 3. Will the gained insights help creating a positive business impact? \n",
        "Are there any insights that lead to negative growth? Justify with specific reason."
      ],
      "metadata": {
        "id": "3MPXvC8up1cl"
      }
    },
    {
      "cell_type": "markdown",
      "source": [
        "Answer Here"
      ],
      "metadata": {
        "id": "GL8l1tdLp1cl"
      }
    },
    {
      "cell_type": "markdown",
      "source": [
        "#### Chart - 14 - Correlation Heatmap"
      ],
      "metadata": {
        "id": "NC_X3p0fY2L0"
      }
    },
    {
      "cell_type": "code",
      "source": [
        "# Correlation Heatmap visualization code"
      ],
      "metadata": {
        "id": "xyC9zolEZNRQ"
      },
      "execution_count": null,
      "outputs": []
    },
    {
      "cell_type": "markdown",
      "source": [
        "##### 1. Why did you pick the specific chart?"
      ],
      "metadata": {
        "id": "UV0SzAkaZNRQ"
      }
    },
    {
      "cell_type": "markdown",
      "source": [
        "Answer Here."
      ],
      "metadata": {
        "id": "DVPuT8LYZNRQ"
      }
    },
    {
      "cell_type": "markdown",
      "source": [
        "##### 2. What is/are the insight(s) found from the chart?"
      ],
      "metadata": {
        "id": "YPEH6qLeZNRQ"
      }
    },
    {
      "cell_type": "markdown",
      "source": [
        "Answer Here"
      ],
      "metadata": {
        "id": "bfSqtnDqZNRR"
      }
    },
    {
      "cell_type": "markdown",
      "source": [
        "#### Chart - 15 - Pair Plot "
      ],
      "metadata": {
        "id": "q29F0dvdveiT"
      }
    },
    {
      "cell_type": "code",
      "source": [
        "# Pair Plot visualization code"
      ],
      "metadata": {
        "id": "o58-TEIhveiU"
      },
      "execution_count": null,
      "outputs": []
    },
    {
      "cell_type": "markdown",
      "source": [
        "##### 1. Why did you pick the specific chart?"
      ],
      "metadata": {
        "id": "EXh0U9oCveiU"
      }
    },
    {
      "cell_type": "markdown",
      "source": [
        "Answer Here."
      ],
      "metadata": {
        "id": "eMmPjTByveiU"
      }
    },
    {
      "cell_type": "markdown",
      "source": [
        "##### 2. What is/are the insight(s) found from the chart?"
      ],
      "metadata": {
        "id": "22aHeOlLveiV"
      }
    },
    {
      "cell_type": "markdown",
      "source": [
        "Answer Here"
      ],
      "metadata": {
        "id": "uPQ8RGwHveiV"
      }
    },
    {
      "cell_type": "markdown",
      "source": [
        "## **5. Solution to Business Objective**"
      ],
      "metadata": {
        "id": "JcMwzZxoAimU"
      }
    },
    {
      "cell_type": "markdown",
      "source": [
        "#### What do you suggest the client to achieve Business Objective ? \n",
        "Explain Briefly."
      ],
      "metadata": {
        "id": "8G2x9gOozGDZ"
      }
    },
    {
      "cell_type": "markdown",
      "source": [
        "Answer Here."
      ],
      "metadata": {
        "id": "pASKb0qOza21"
      }
    },
    {
      "cell_type": "markdown",
      "source": [
        "# **Conclusion**"
      ],
      "metadata": {
        "id": "gCX9965dhzqZ"
      }
    },
    {
      "cell_type": "markdown",
      "source": [
        "Write the conclusion here."
      ],
      "metadata": {
        "id": "Fjb1IsQkh3yE"
      }
    },
    {
      "cell_type": "markdown",
      "source": [
        "### ***Hurrah! You have successfully completed your EDA Capstone Project !!!***"
      ],
      "metadata": {
        "id": "gIfDvo9L0UH2"
      }
    }
  ]
}